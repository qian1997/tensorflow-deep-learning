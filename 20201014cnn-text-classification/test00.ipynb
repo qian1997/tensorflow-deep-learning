{
 "cells": [
  {
   "cell_type": "code",
   "execution_count": 1,
   "metadata": {},
   "outputs": [],
   "source": [
    "import numpy as np\n",
    "import re\n",
    "import itertools\n",
    "from collections import Counter\n",
    "import tensorflow as tf\n"
   ]
  },
  {
   "cell_type": "code",
   "execution_count": 11,
   "metadata": {},
   "outputs": [
    {
     "name": "stdout",
     "output_type": "stream",
     "text": [
      "['the rock is destined to be the 21st century', 'effective but too-tepid biopic', 'if you sometimes like to go to the movies to have fun', 'the film provides some great insight into the neurotic mindset', 'take care of my cat offers a refreshingly']\n",
      "['the rock is destined to be the 21st century', 'effective but too tepid biopic', 'if you sometimes like to go to the movies to have fun', 'the film provides some great insight into the neurotic mindset', 'take care of my cat offers a refreshingly']\n"
     ]
    }
   ],
   "source": [
    "def clean_str(string):\n",
    "    \"\"\"\n",
    "    Tokenization/string cleaning for all datasets except for SST.\n",
    "    Original taken from https://github.com/yoonkim/CNN_sentence/blob/master/process_data.py\n",
    "    \"\"\"\n",
    "    # 不是特定字符都变成空格\n",
    "    string = re.sub(r\"[^A-Za-z0-9(),!?\\'\\`]\", \" \", string)\n",
    "    # 加空格\n",
    "    string = re.sub(r\"\\'s\", \" \\'s\", string)\n",
    "    string = re.sub(r\"\\'ve\", \" \\'ve\", string)\n",
    "    string = re.sub(r\"n\\'t\", \" n\\'t\", string)\n",
    "    string = re.sub(r\"\\'re\", \" \\'re\", string)\n",
    "    string = re.sub(r\"\\'d\", \" \\'d\", string)\n",
    "    string = re.sub(r\"\\'ll\", \" \\'ll\", string)\n",
    "    string = re.sub(r\",\", \" , \", string)\n",
    "    string = re.sub(r\"!\", \" ! \", string)\n",
    "    string = re.sub(r\"\\(\", \" \\( \", string)\n",
    "    string = re.sub(r\"\\)\", \" \\) \", string)\n",
    "    string = re.sub(r\"\\?\", \" \\? \", string)\n",
    "    # 匹配2个或多个空白字符变成一个\" \"空格\n",
    "    string = re.sub(r\"\\s{2,}\", \" \", string)\n",
    "    # 去掉句子首尾的空白符，再转小写\n",
    "    return string.strip().lower()\n",
    "\n",
    "positive_examples = ['the rock is destined to be the 21st century',\n",
    "                    'effective but too-tepid biopic',\n",
    "                    'if you sometimes like to go to the movies to have fun']\n",
    "positive_examples = [s.strip() for s in positive_examples]\n",
    "negative_examples=['the film provides some great insight into the neurotic mindset',\n",
    "                  'take care of my cat offers a refreshingly']\n",
    "negative_examples = [s.strip() for s in negative_examples]\n",
    "x_text = positive_examples + negative_examples\n",
    "print(x_text)\n",
    "x_text = [clean_str(sent) for sent in x_text]"
   ]
  },
  {
   "cell_type": "code",
   "execution_count": 25,
   "metadata": {},
   "outputs": [
    {
     "name": "stdout",
     "output_type": "stream",
     "text": [
      "[[0, 1], [0, 1], [0, 1]]\n",
      "[[0 1]\n",
      " [0 1]\n",
      " [0 1]\n",
      " [1 0]\n",
      " [1 0]]\n"
     ]
    }
   ],
   "source": [
    "positive_labels = [[0, 1] for _ in positive_examples]\n",
    "negative_labels = [[1, 0] for _ in negative_examples]\n",
    "print(positive_labels)\n",
    "y = np.concatenate([positive_labels, negative_labels], 0)\n",
    "print(y)"
   ]
  },
  {
   "cell_type": "code",
   "execution_count": 23,
   "metadata": {},
   "outputs": [
    {
     "name": "stdout",
     "output_type": "stream",
     "text": [
      "[[1 2]\n",
      " [3 4]\n",
      " [5 6]]\n",
      "[[1 2 5]\n",
      " [3 4 6]]\n",
      "[[1 2]\n",
      " [3 4]\n",
      " [5 6]]\n"
     ]
    }
   ],
   "source": [
    "a = np.array([[1, 2], [3, 4]])\n",
    "b = np.array([[5, 6]])\n",
    "c = np.concatenate((a,b),axis=0)\n",
    "d = np.concatenate((a,b.T),axis = 1)\n",
    "e = np.concatenate([a,b],0)\n",
    "print(c)\n",
    "print(d)\n",
    "print(e)"
   ]
  },
  {
   "cell_type": "code",
   "execution_count": 26,
   "metadata": {},
   "outputs": [
    {
     "name": "stdout",
     "output_type": "stream",
     "text": [
      "the movie 's ripe , enrapturing beauty will tempt those willing to probe its inscrutable mysteries !\n"
     ]
    }
   ],
   "source": [
    "string1 = \"the movie's ripe , enrapturing beauty will tempt those willing to probe its inscrutable mysteries! \"\n",
    "string2 = clean_str(string1)\n",
    "print(string2)"
   ]
  },
  {
   "cell_type": "code",
   "execution_count": 33,
   "metadata": {},
   "outputs": [
    {
     "name": "stdout",
     "output_type": "stream",
     "text": [
      "[9, 5, 12, 10, 8]\n",
      "12\n"
     ]
    }
   ],
   "source": [
    "document_len = [len(x.split(\" \")) for x in x_text]\n",
    "print(document_len)\n",
    "max_len = max(document_len)\n",
    "print(max_len)"
   ]
  },
  {
   "cell_type": "code",
   "execution_count": 36,
   "metadata": {},
   "outputs": [],
   "source": [
    "from tensorflow.contrib import learn"
   ]
  },
  {
   "cell_type": "code",
   "execution_count": 57,
   "metadata": {},
   "outputs": [
    {
     "name": "stdout",
     "output_type": "stream",
     "text": [
      "[[ 1  2  3  4  5  6  1  7  8  0  0  0]\n",
      " [ 9 10 11 12 13  0  0  0  0  0  0  0]\n",
      " [14 15 16 17  5 18  5  1 19  5 20 21]\n",
      " [ 1 22 23 24 25 26 27  1 28 29  0  0]\n",
      " [30 31 32 33 34 35 36 37  0  0  0  0]]\n"
     ]
    }
   ],
   "source": [
    "vocab = learn.preprocessing.VocabularyProcessor(max_len)\n",
    "#将列表转换为数组\n",
    "x = np.array(list(vocab.fit_transform(x_text)))\n",
    "print(x)"
   ]
  },
  {
   "cell_type": "code",
   "execution_count": 41,
   "metadata": {},
   "outputs": [
    {
     "name": "stdout",
     "output_type": "stream",
     "text": [
      "随机排序列表 :  [20, 16, 10, 5]\n",
      "随机排序列表 :  [10, 20, 5, 16]\n"
     ]
    }
   ],
   "source": [
    "import random\n",
    "list1 = [20, 16, 10, 5]\n",
    "random.shuffle(list1)\n",
    "print(\"随机排序列表 : \",  list1)\n",
    "\n",
    "random.shuffle(list1)\n",
    "print(\"随机排序列表 : \",  list1)"
   ]
  },
  {
   "cell_type": "code",
   "execution_count": 47,
   "metadata": {},
   "outputs": [
    {
     "name": "stdout",
     "output_type": "stream",
     "text": [
      "first: [0.5507979  0.70814782 0.29090474 0.51082761 0.89294695]\n"
     ]
    }
   ],
   "source": [
    "import numpy as np\n",
    "from numpy.random import rand\n",
    "np.random.seed(3)\n",
    "a = rand(5)\n",
    "print(\"first:\",a)"
   ]
  },
  {
   "cell_type": "code",
   "execution_count": 49,
   "metadata": {},
   "outputs": [
    {
     "name": "stdout",
     "output_type": "stream",
     "text": [
      "second: [0.5507979  0.70814782 0.29090474 0.51082761 0.89294695]\n"
     ]
    }
   ],
   "source": [
    "np.random.seed(3)\n",
    "a = rand(5)\n",
    "print(\"second:\",a)"
   ]
  },
  {
   "cell_type": "code",
   "execution_count": 50,
   "metadata": {},
   "outputs": [
    {
     "name": "stdout",
     "output_type": "stream",
     "text": [
      "[0 4 1 3 2]\n"
     ]
    }
   ],
   "source": [
    "#数字0-4排序\n",
    "b = np.random.permutation(5)\n",
    "print(b)"
   ]
  },
  {
   "cell_type": "code",
   "execution_count": 51,
   "metadata": {},
   "outputs": [
    {
     "name": "stdout",
     "output_type": "stream",
     "text": [
      "[4 9 3 2 0 5 1 7 8 6]\n"
     ]
    }
   ],
   "source": [
    "#list排序\n",
    "c = np.random.permutation([1,2,3,4,5,6,7,8,9,0])\n",
    "print(c)"
   ]
  },
  {
   "cell_type": "code",
   "execution_count": 52,
   "metadata": {},
   "outputs": [
    {
     "name": "stdout",
     "output_type": "stream",
     "text": [
      "[0 1 2]\n"
     ]
    }
   ],
   "source": [
    "aa = np.arange(3)\n",
    "print(aa)"
   ]
  },
  {
   "cell_type": "code",
   "execution_count": 53,
   "metadata": {},
   "outputs": [
    {
     "name": "stdout",
     "output_type": "stream",
     "text": [
      "[3 4 5 6 7 8]\n"
     ]
    }
   ],
   "source": [
    "bb = np.arange(3,9)\n",
    "print(bb)"
   ]
  },
  {
   "cell_type": "code",
   "execution_count": 54,
   "metadata": {},
   "outputs": [
    {
     "name": "stdout",
     "output_type": "stream",
     "text": [
      "[1 3 5 7 9]\n"
     ]
    }
   ],
   "source": [
    "cc = np.arange(1,10,2)#起点1，终点10，步长2\n",
    "print(cc)"
   ]
  },
  {
   "cell_type": "code",
   "execution_count": 60,
   "metadata": {},
   "outputs": [
    {
     "name": "stdout",
     "output_type": "stream",
     "text": [
      "[[ 1  2  3  4  5  6  1  7  8  0  0  0]\n",
      " [ 9 10 11 12 13  0  0  0  0  0  0  0]\n",
      " [14 15 16 17  5 18  5  1 19  5 20 21]\n",
      " [ 1 22 23 24 25 26 27  1 28 29  0  0]\n",
      " [30 31 32 33 34 35 36 37  0  0  0  0]]\n",
      "[[0 1]\n",
      " [0 1]\n",
      " [0 1]\n",
      " [1 0]\n",
      " [1 0]]\n",
      "______\n",
      "[[14 15 16 17  5 18  5  1 19  5 20 21]\n",
      " [ 1 22 23 24 25 26 27  1 28 29  0  0]\n",
      " [ 1  2  3  4  5  6  1  7  8  0  0  0]\n",
      " [30 31 32 33 34 35 36 37  0  0  0  0]\n",
      " [ 9 10 11 12 13  0  0  0  0  0  0  0]]\n",
      "[[0 1]\n",
      " [1 0]\n",
      " [0 1]\n",
      " [1 0]\n",
      " [0 1]]\n"
     ]
    }
   ],
   "source": [
    "print(x)\n",
    "print(y)\n",
    "print(\"______\")\n",
    "np.random.seed(10)\n",
    "shuffle_indices1 = np.random.permutation(np.arange(len(y)))\n",
    "x_shuffled = x[shuffle_indices1]\n",
    "y_shuffled = y[shuffle_indices1]\n",
    "print(x_shuffled)\n",
    "print(y_shuffled)"
   ]
  },
  {
   "cell_type": "code",
   "execution_count": 63,
   "metadata": {},
   "outputs": [
    {
     "name": "stdout",
     "output_type": "stream",
     "text": [
      "[[-0.08788133  0.22054613 -0.03172755 -0.13382006  0.26269603  0.35440767]\n",
      " [ 0.09093058  0.12063205 -0.3468814  -0.00612164 -0.47694886  0.31444407]\n",
      " [-0.35818386  0.23495948  0.4968568  -0.13550162 -0.29231262 -0.49774373]\n",
      " [-0.36301184  0.15901637  0.02170622 -0.29145586 -0.2537732   0.20505822]\n",
      " [ 0.06371689  0.07469189 -0.08913267  0.01038587 -0.28714263  0.34437072]\n",
      " [-0.43197167 -0.15391958  0.3788265  -0.10389376 -0.47904682  0.3731209 ]]\n"
     ]
    }
   ],
   "source": [
    "import tensorflow as tf\n",
    "with tf.Session() as sess:\n",
    "    print(sess.run(tf.random_uniform(\n",
    "        (6,6), minval=-0.5,\n",
    "        maxval=0.5, dtype=tf.float32)))"
   ]
  },
  {
   "cell_type": "code",
   "execution_count": 2,
   "metadata": {},
   "outputs": [
    {
     "name": "stdout",
     "output_type": "stream",
     "text": [
      "[(0, 'how'), (1, 'are'), (2, 'you')]\n"
     ]
    }
   ],
   "source": [
    "#enumerate() 函数用于将一个可遍历的数据对象(如列表、元组或字符串)组合为一个索引序列，同时列出数据和数据下标\n",
    "data1 = ['how','are','you']\n",
    "print(list(enumerate(data1)))"
   ]
  },
  {
   "cell_type": "code",
   "execution_count": 8,
   "metadata": {},
   "outputs": [
    {
     "name": "stdout",
     "output_type": "stream",
     "text": [
      "[1 2 3 4 5 6 7 8]\n",
      "[[1 2 3 4]\n",
      " [5 6 7 8]]\n",
      "[[[1 2]\n",
      "  [3 4]]\n",
      "\n",
      " [[5 6]\n",
      "  [7 8]]]\n"
     ]
    }
   ],
   "source": [
    "#shape\n",
    "arr1= np.array([1,2,3,4,5,6,7,8])\n",
    "print(arr1)\n",
    "arr2 = arr1.reshape(2,4)\n",
    "print(arr2)\n",
    "arr3 = arr1.reshape(2,2,2)\n",
    "print(arr3)"
   ]
  },
  {
   "cell_type": "code",
   "execution_count": 3,
   "metadata": {},
   "outputs": [
    {
     "name": "stdout",
     "output_type": "stream",
     "text": [
      "WARNING:tensorflow:From D:\\Tensorflow\\20201014cnn-text-classification\\train.py:256: The name tf.app.run is deprecated. Please use tf.compat.v1.app.run instead.\n",
      "\n",
      "Loading data...\n",
      "WARNING:tensorflow:From D:\\Tensorflow\\20201014cnn-text-classification\\train.py:82: VocabularyProcessor.__init__ (from tensorflow.contrib.learn.python.learn.preprocessing.text) is deprecated and will be removed in a future version.\n",
      "Instructions for updating:\n",
      "Please use tensorflow/transform or tf.data.\n"
     ]
    },
    {
     "name": "stderr",
     "output_type": "stream",
     "text": [
      "W1021 16:35:11.217345  6356 deprecation.py:323] From D:\\Tensorflow\\20201014cnn-text-classification\\train.py:82: VocabularyProcessor.__init__ (from tensorflow.contrib.learn.python.learn.preprocessing.text) is deprecated and will be removed in a future version.\n",
      "Instructions for updating:\n",
      "Please use tensorflow/transform or tf.data.\n"
     ]
    },
    {
     "name": "stdout",
     "output_type": "stream",
     "text": [
      "WARNING:tensorflow:From D:\\Anaconda3\\lib\\site-packages\\tensorflow\\contrib\\learn\\python\\learn\\preprocessing\\text.py:154: CategoricalVocabulary.__init__ (from tensorflow.contrib.learn.python.learn.preprocessing.categorical_vocabulary) is deprecated and will be removed in a future version.\n",
      "Instructions for updating:\n",
      "Please use tensorflow/transform or tf.data.\n"
     ]
    },
    {
     "name": "stderr",
     "output_type": "stream",
     "text": [
      "W1021 16:35:11.219324  6356 deprecation.py:323] From D:\\Anaconda3\\lib\\site-packages\\tensorflow\\contrib\\learn\\python\\learn\\preprocessing\\text.py:154: CategoricalVocabulary.__init__ (from tensorflow.contrib.learn.python.learn.preprocessing.categorical_vocabulary) is deprecated and will be removed in a future version.\n",
      "Instructions for updating:\n",
      "Please use tensorflow/transform or tf.data.\n"
     ]
    },
    {
     "name": "stdout",
     "output_type": "stream",
     "text": [
      "WARNING:tensorflow:From D:\\Anaconda3\\lib\\site-packages\\tensorflow\\contrib\\learn\\python\\learn\\preprocessing\\text.py:170: tokenizer (from tensorflow.contrib.learn.python.learn.preprocessing.text) is deprecated and will be removed in a future version.\n",
      "Instructions for updating:\n",
      "Please use tensorflow/transform or tf.data.\n"
     ]
    },
    {
     "name": "stderr",
     "output_type": "stream",
     "text": [
      "W1021 16:35:11.221326  6356 deprecation.py:323] From D:\\Anaconda3\\lib\\site-packages\\tensorflow\\contrib\\learn\\python\\learn\\preprocessing\\text.py:170: tokenizer (from tensorflow.contrib.learn.python.learn.preprocessing.text) is deprecated and will be removed in a future version.\n",
      "Instructions for updating:\n",
      "Please use tensorflow/transform or tf.data.\n"
     ]
    },
    {
     "name": "stdout",
     "output_type": "stream",
     "text": [
      "Vocabulary Size: 18758\n",
      "Train/Dev split: 9596/1066\n",
      "WARNING:tensorflow:From D:\\Tensorflow\\20201014cnn-text-classification\\train.py:115: The name tf.ConfigProto is deprecated. Please use tf.compat.v1.ConfigProto instead.\n",
      "\n"
     ]
    },
    {
     "name": "stderr",
     "output_type": "stream",
     "text": [
      "W1021 16:35:11.922923  6356 deprecation_wrapper.py:119] From D:\\Tensorflow\\20201014cnn-text-classification\\train.py:115: The name tf.ConfigProto is deprecated. Please use tf.compat.v1.ConfigProto instead.\n",
      "\n"
     ]
    },
    {
     "name": "stdout",
     "output_type": "stream",
     "text": [
      "WARNING:tensorflow:From D:\\Tensorflow\\20201014cnn-text-classification\\train.py:118: The name tf.Session is deprecated. Please use tf.compat.v1.Session instead.\n",
      "\n"
     ]
    },
    {
     "name": "stderr",
     "output_type": "stream",
     "text": [
      "W1021 16:35:11.924921  6356 deprecation_wrapper.py:119] From D:\\Tensorflow\\20201014cnn-text-classification\\train.py:118: The name tf.Session is deprecated. Please use tf.compat.v1.Session instead.\n",
      "\n"
     ]
    },
    {
     "name": "stdout",
     "output_type": "stream",
     "text": [
      "WARNING:tensorflow:From D:\\Tensorflow\\20201014cnn-text-classification\\text_cnn.py:25: The name tf.placeholder is deprecated. Please use tf.compat.v1.placeholder instead.\n",
      "\n"
     ]
    },
    {
     "name": "stderr",
     "output_type": "stream",
     "text": [
      "W1021 16:35:16.226038  6356 deprecation_wrapper.py:119] From D:\\Tensorflow\\20201014cnn-text-classification\\text_cnn.py:25: The name tf.placeholder is deprecated. Please use tf.compat.v1.placeholder instead.\n",
      "\n"
     ]
    },
    {
     "name": "stdout",
     "output_type": "stream",
     "text": [
      "WARNING:tensorflow:From D:\\Tensorflow\\20201014cnn-text-classification\\text_cnn.py:38: The name tf.random_uniform is deprecated. Please use tf.random.uniform instead.\n",
      "\n"
     ]
    },
    {
     "name": "stderr",
     "output_type": "stream",
     "text": [
      "W1021 16:35:16.251018  6356 deprecation_wrapper.py:119] From D:\\Tensorflow\\20201014cnn-text-classification\\text_cnn.py:38: The name tf.random_uniform is deprecated. Please use tf.random.uniform instead.\n",
      "\n"
     ]
    },
    {
     "name": "stdout",
     "output_type": "stream",
     "text": [
      "WARNING:tensorflow:From D:\\Tensorflow\\20201014cnn-text-classification\\text_cnn.py:57: The name tf.truncated_normal is deprecated. Please use tf.random.truncated_normal instead.\n",
      "\n"
     ]
    },
    {
     "name": "stderr",
     "output_type": "stream",
     "text": [
      "W1021 16:35:16.317990  6356 deprecation_wrapper.py:119] From D:\\Tensorflow\\20201014cnn-text-classification\\text_cnn.py:57: The name tf.truncated_normal is deprecated. Please use tf.random.truncated_normal instead.\n",
      "\n"
     ]
    },
    {
     "name": "stdout",
     "output_type": "stream",
     "text": [
      "WARNING:tensorflow:From D:\\Tensorflow\\20201014cnn-text-classification\\text_cnn.py:78: The name tf.nn.max_pool is deprecated. Please use tf.nn.max_pool2d instead.\n",
      "\n"
     ]
    },
    {
     "name": "stderr",
     "output_type": "stream",
     "text": [
      "W1021 16:35:16.379949  6356 deprecation_wrapper.py:119] From D:\\Tensorflow\\20201014cnn-text-classification\\text_cnn.py:78: The name tf.nn.max_pool is deprecated. Please use tf.nn.max_pool2d instead.\n",
      "\n"
     ]
    },
    {
     "name": "stdout",
     "output_type": "stream",
     "text": [
      "WARNING:tensorflow:From D:\\Tensorflow\\20201014cnn-text-classification\\text_cnn.py:97: calling dropout (from tensorflow.python.ops.nn_ops) with keep_prob is deprecated and will be removed in a future version.\n",
      "Instructions for updating:\n",
      "Please use `rate` instead of `keep_prob`. Rate should be set to `rate = 1 - keep_prob`.\n"
     ]
    },
    {
     "name": "stderr",
     "output_type": "stream",
     "text": [
      "W1021 16:35:16.487883  6356 deprecation.py:506] From D:\\Tensorflow\\20201014cnn-text-classification\\text_cnn.py:97: calling dropout (from tensorflow.python.ops.nn_ops) with keep_prob is deprecated and will be removed in a future version.\n",
      "Instructions for updating:\n",
      "Please use `rate` instead of `keep_prob`. Rate should be set to `rate = 1 - keep_prob`.\n"
     ]
    },
    {
     "name": "stdout",
     "output_type": "stream",
     "text": [
      "WARNING:tensorflow:From D:\\Tensorflow\\20201014cnn-text-classification\\text_cnn.py:113: The name tf.nn.xw_plus_b is deprecated. Please use tf.compat.v1.nn.xw_plus_b instead.\n",
      "\n"
     ]
    },
    {
     "name": "stderr",
     "output_type": "stream",
     "text": [
      "W1021 16:35:16.558839  6356 deprecation_wrapper.py:119] From D:\\Tensorflow\\20201014cnn-text-classification\\text_cnn.py:113: The name tf.nn.xw_plus_b is deprecated. Please use tf.compat.v1.nn.xw_plus_b instead.\n",
      "\n"
     ]
    },
    {
     "name": "stdout",
     "output_type": "stream",
     "text": [
      "WARNING:tensorflow:From D:\\Tensorflow\\20201014cnn-text-classification\\text_cnn.py:119: softmax_cross_entropy_with_logits (from tensorflow.python.ops.nn_ops) is deprecated and will be removed in a future version.\n",
      "Instructions for updating:\n",
      "\n",
      "Future major versions of TensorFlow will allow gradients to flow\n",
      "into the labels input on backprop by default.\n",
      "\n",
      "See `tf.nn.softmax_cross_entropy_with_logits_v2`.\n",
      "\n"
     ]
    },
    {
     "name": "stderr",
     "output_type": "stream",
     "text": [
      "W1021 16:35:16.571832  6356 deprecation.py:323] From D:\\Tensorflow\\20201014cnn-text-classification\\text_cnn.py:119: softmax_cross_entropy_with_logits (from tensorflow.python.ops.nn_ops) is deprecated and will be removed in a future version.\n",
      "Instructions for updating:\n",
      "\n",
      "Future major versions of TensorFlow will allow gradients to flow\n",
      "into the labels input on backprop by default.\n",
      "\n",
      "See `tf.nn.softmax_cross_entropy_with_logits_v2`.\n",
      "\n"
     ]
    },
    {
     "name": "stdout",
     "output_type": "stream",
     "text": [
      "WARNING:tensorflow:From D:\\Tensorflow\\20201014cnn-text-classification\\train.py:135: The name tf.train.AdamOptimizer is deprecated. Please use tf.compat.v1.train.AdamOptimizer instead.\n",
      "\n"
     ]
    },
    {
     "name": "stderr",
     "output_type": "stream",
     "text": [
      "W1021 16:35:16.671775  6356 deprecation_wrapper.py:119] From D:\\Tensorflow\\20201014cnn-text-classification\\train.py:135: The name tf.train.AdamOptimizer is deprecated. Please use tf.compat.v1.train.AdamOptimizer instead.\n",
      "\n"
     ]
    },
    {
     "name": "stdout",
     "output_type": "stream",
     "text": [
      "WARNING:tensorflow:From D:\\Tensorflow\\20201014cnn-text-classification\\train.py:146: The name tf.summary.histogram is deprecated. Please use tf.compat.v1.summary.histogram instead.\n",
      "\n"
     ]
    },
    {
     "name": "stderr",
     "output_type": "stream",
     "text": [
      "W1021 16:35:17.141525  6356 deprecation_wrapper.py:119] From D:\\Tensorflow\\20201014cnn-text-classification\\train.py:146: The name tf.summary.histogram is deprecated. Please use tf.compat.v1.summary.histogram instead.\n",
      "\n"
     ]
    },
    {
     "name": "stdout",
     "output_type": "stream",
     "text": [
      "INFO:tensorflow:Summary name embedding/W:0/grad/hist is illegal; using embedding/W_0/grad/hist instead.\n"
     ]
    },
    {
     "name": "stderr",
     "output_type": "stream",
     "text": [
      "I1021 16:35:17.143507  6356 summary_op_util.py:66] Summary name embedding/W:0/grad/hist is illegal; using embedding/W_0/grad/hist instead.\n"
     ]
    },
    {
     "name": "stdout",
     "output_type": "stream",
     "text": [
      "WARNING:tensorflow:From D:\\Tensorflow\\20201014cnn-text-classification\\train.py:148: The name tf.summary.scalar is deprecated. Please use tf.compat.v1.summary.scalar instead.\n",
      "\n"
     ]
    },
    {
     "name": "stderr",
     "output_type": "stream",
     "text": [
      "W1021 16:35:17.161515  6356 deprecation_wrapper.py:119] From D:\\Tensorflow\\20201014cnn-text-classification\\train.py:148: The name tf.summary.scalar is deprecated. Please use tf.compat.v1.summary.scalar instead.\n",
      "\n"
     ]
    },
    {
     "name": "stdout",
     "output_type": "stream",
     "text": [
      "INFO:tensorflow:Summary name embedding/W:0/grad/sparsity is illegal; using embedding/W_0/grad/sparsity instead.\n"
     ]
    },
    {
     "name": "stderr",
     "output_type": "stream",
     "text": [
      "I1021 16:35:17.213466  6356 summary_op_util.py:66] Summary name embedding/W:0/grad/sparsity is illegal; using embedding/W_0/grad/sparsity instead.\n"
     ]
    },
    {
     "name": "stdout",
     "output_type": "stream",
     "text": [
      "INFO:tensorflow:Summary name conv-maxpool-3/W:0/grad/hist is illegal; using conv-maxpool-3/W_0/grad/hist instead.\n"
     ]
    },
    {
     "name": "stderr",
     "output_type": "stream",
     "text": [
      "I1021 16:35:17.220464  6356 summary_op_util.py:66] Summary name conv-maxpool-3/W:0/grad/hist is illegal; using conv-maxpool-3/W_0/grad/hist instead.\n"
     ]
    },
    {
     "name": "stdout",
     "output_type": "stream",
     "text": [
      "INFO:tensorflow:Summary name conv-maxpool-3/W:0/grad/sparsity is illegal; using conv-maxpool-3/W_0/grad/sparsity instead.\n"
     ]
    },
    {
     "name": "stderr",
     "output_type": "stream",
     "text": [
      "I1021 16:35:17.275430  6356 summary_op_util.py:66] Summary name conv-maxpool-3/W:0/grad/sparsity is illegal; using conv-maxpool-3/W_0/grad/sparsity instead.\n"
     ]
    },
    {
     "name": "stdout",
     "output_type": "stream",
     "text": [
      "INFO:tensorflow:Summary name conv-maxpool-3/b:0/grad/hist is illegal; using conv-maxpool-3/b_0/grad/hist instead.\n"
     ]
    },
    {
     "name": "stderr",
     "output_type": "stream",
     "text": [
      "I1021 16:35:17.287427  6356 summary_op_util.py:66] Summary name conv-maxpool-3/b:0/grad/hist is illegal; using conv-maxpool-3/b_0/grad/hist instead.\n"
     ]
    },
    {
     "name": "stdout",
     "output_type": "stream",
     "text": [
      "INFO:tensorflow:Summary name conv-maxpool-3/b:0/grad/sparsity is illegal; using conv-maxpool-3/b_0/grad/sparsity instead.\n"
     ]
    },
    {
     "name": "stderr",
     "output_type": "stream",
     "text": [
      "I1021 16:35:17.357383  6356 summary_op_util.py:66] Summary name conv-maxpool-3/b:0/grad/sparsity is illegal; using conv-maxpool-3/b_0/grad/sparsity instead.\n"
     ]
    },
    {
     "name": "stdout",
     "output_type": "stream",
     "text": [
      "INFO:tensorflow:Summary name conv-maxpool-4/W:0/grad/hist is illegal; using conv-maxpool-4/W_0/grad/hist instead.\n"
     ]
    },
    {
     "name": "stderr",
     "output_type": "stream",
     "text": [
      "I1021 16:35:17.364379  6356 summary_op_util.py:66] Summary name conv-maxpool-4/W:0/grad/hist is illegal; using conv-maxpool-4/W_0/grad/hist instead.\n"
     ]
    },
    {
     "name": "stdout",
     "output_type": "stream",
     "text": [
      "INFO:tensorflow:Summary name conv-maxpool-4/W:0/grad/sparsity is illegal; using conv-maxpool-4/W_0/grad/sparsity instead.\n"
     ]
    },
    {
     "name": "stderr",
     "output_type": "stream",
     "text": [
      "I1021 16:35:17.416347  6356 summary_op_util.py:66] Summary name conv-maxpool-4/W:0/grad/sparsity is illegal; using conv-maxpool-4/W_0/grad/sparsity instead.\n"
     ]
    },
    {
     "name": "stdout",
     "output_type": "stream",
     "text": [
      "INFO:tensorflow:Summary name conv-maxpool-4/b:0/grad/hist is illegal; using conv-maxpool-4/b_0/grad/hist instead.\n"
     ]
    },
    {
     "name": "stderr",
     "output_type": "stream",
     "text": [
      "I1021 16:35:17.425345  6356 summary_op_util.py:66] Summary name conv-maxpool-4/b:0/grad/hist is illegal; using conv-maxpool-4/b_0/grad/hist instead.\n"
     ]
    },
    {
     "name": "stdout",
     "output_type": "stream",
     "text": [
      "INFO:tensorflow:Summary name conv-maxpool-4/b:0/grad/sparsity is illegal; using conv-maxpool-4/b_0/grad/sparsity instead.\n"
     ]
    },
    {
     "name": "stderr",
     "output_type": "stream",
     "text": [
      "I1021 16:35:17.478315  6356 summary_op_util.py:66] Summary name conv-maxpool-4/b:0/grad/sparsity is illegal; using conv-maxpool-4/b_0/grad/sparsity instead.\n"
     ]
    },
    {
     "name": "stdout",
     "output_type": "stream",
     "text": [
      "INFO:tensorflow:Summary name conv-maxpool-5/W:0/grad/hist is illegal; using conv-maxpool-5/W_0/grad/hist instead.\n"
     ]
    },
    {
     "name": "stderr",
     "output_type": "stream",
     "text": [
      "I1021 16:35:17.486316  6356 summary_op_util.py:66] Summary name conv-maxpool-5/W:0/grad/hist is illegal; using conv-maxpool-5/W_0/grad/hist instead.\n"
     ]
    },
    {
     "name": "stdout",
     "output_type": "stream",
     "text": [
      "INFO:tensorflow:Summary name conv-maxpool-5/W:0/grad/sparsity is illegal; using conv-maxpool-5/W_0/grad/sparsity instead.\n"
     ]
    },
    {
     "name": "stderr",
     "output_type": "stream",
     "text": [
      "I1021 16:35:17.541277  6356 summary_op_util.py:66] Summary name conv-maxpool-5/W:0/grad/sparsity is illegal; using conv-maxpool-5/W_0/grad/sparsity instead.\n"
     ]
    },
    {
     "name": "stdout",
     "output_type": "stream",
     "text": [
      "INFO:tensorflow:Summary name conv-maxpool-5/b:0/grad/hist is illegal; using conv-maxpool-5/b_0/grad/hist instead.\n"
     ]
    },
    {
     "name": "stderr",
     "output_type": "stream",
     "text": [
      "I1021 16:35:17.547274  6356 summary_op_util.py:66] Summary name conv-maxpool-5/b:0/grad/hist is illegal; using conv-maxpool-5/b_0/grad/hist instead.\n"
     ]
    },
    {
     "name": "stdout",
     "output_type": "stream",
     "text": [
      "INFO:tensorflow:Summary name conv-maxpool-5/b:0/grad/sparsity is illegal; using conv-maxpool-5/b_0/grad/sparsity instead.\n"
     ]
    },
    {
     "name": "stderr",
     "output_type": "stream",
     "text": [
      "I1021 16:35:17.598244  6356 summary_op_util.py:66] Summary name conv-maxpool-5/b:0/grad/sparsity is illegal; using conv-maxpool-5/b_0/grad/sparsity instead.\n"
     ]
    },
    {
     "name": "stdout",
     "output_type": "stream",
     "text": [
      "INFO:tensorflow:Summary name W:0/grad/hist is illegal; using W_0/grad/hist instead.\n"
     ]
    },
    {
     "name": "stderr",
     "output_type": "stream",
     "text": [
      "I1021 16:35:17.607241  6356 summary_op_util.py:66] Summary name W:0/grad/hist is illegal; using W_0/grad/hist instead.\n"
     ]
    },
    {
     "name": "stdout",
     "output_type": "stream",
     "text": [
      "INFO:tensorflow:Summary name W:0/grad/sparsity is illegal; using W_0/grad/sparsity instead.\n"
     ]
    },
    {
     "name": "stderr",
     "output_type": "stream",
     "text": [
      "I1021 16:35:17.652215  6356 summary_op_util.py:66] Summary name W:0/grad/sparsity is illegal; using W_0/grad/sparsity instead.\n"
     ]
    },
    {
     "name": "stdout",
     "output_type": "stream",
     "text": [
      "INFO:tensorflow:Summary name output/b:0/grad/hist is illegal; using output/b_0/grad/hist instead.\n"
     ]
    },
    {
     "name": "stderr",
     "output_type": "stream",
     "text": [
      "I1021 16:35:17.659210  6356 summary_op_util.py:66] Summary name output/b:0/grad/hist is illegal; using output/b_0/grad/hist instead.\n"
     ]
    },
    {
     "name": "stdout",
     "output_type": "stream",
     "text": [
      "INFO:tensorflow:Summary name output/b:0/grad/sparsity is illegal; using output/b_0/grad/sparsity instead.\n"
     ]
    },
    {
     "name": "stderr",
     "output_type": "stream",
     "text": [
      "I1021 16:35:17.704184  6356 summary_op_util.py:66] Summary name output/b:0/grad/sparsity is illegal; using output/b_0/grad/sparsity instead.\n"
     ]
    },
    {
     "name": "stdout",
     "output_type": "stream",
     "text": [
      "WARNING:tensorflow:From D:\\Tensorflow\\20201014cnn-text-classification\\train.py:152: The name tf.summary.merge is deprecated. Please use tf.compat.v1.summary.merge instead.\n",
      "\n"
     ]
    },
    {
     "name": "stderr",
     "output_type": "stream",
     "text": [
      "W1021 16:35:17.710181  6356 deprecation_wrapper.py:119] From D:\\Tensorflow\\20201014cnn-text-classification\\train.py:152: The name tf.summary.merge is deprecated. Please use tf.compat.v1.summary.merge instead.\n",
      "\n"
     ]
    },
    {
     "name": "stdout",
     "output_type": "stream",
     "text": [
      "Writing to D:\\Tensorflow\\20201014cnn-text-classification\\runs\\1603269317\n",
      "\n",
      "WARNING:tensorflow:From D:\\Tensorflow\\20201014cnn-text-classification\\train.py:171: The name tf.summary.FileWriter is deprecated. Please use tf.compat.v1.summary.FileWriter instead.\n",
      "\n"
     ]
    },
    {
     "name": "stderr",
     "output_type": "stream",
     "text": [
      "W1021 16:35:17.727169  6356 deprecation_wrapper.py:119] From D:\\Tensorflow\\20201014cnn-text-classification\\train.py:171: The name tf.summary.FileWriter is deprecated. Please use tf.compat.v1.summary.FileWriter instead.\n",
      "\n"
     ]
    },
    {
     "name": "stdout",
     "output_type": "stream",
     "text": [
      "WARNING:tensorflow:From D:\\Tensorflow\\20201014cnn-text-classification\\train.py:185: The name tf.train.Saver is deprecated. Please use tf.compat.v1.train.Saver instead.\n",
      "\n"
     ]
    },
    {
     "name": "stderr",
     "output_type": "stream",
     "text": [
      "W1021 16:35:20.781006  6356 deprecation_wrapper.py:119] From D:\\Tensorflow\\20201014cnn-text-classification\\train.py:185: The name tf.train.Saver is deprecated. Please use tf.compat.v1.train.Saver instead.\n",
      "\n"
     ]
    },
    {
     "name": "stdout",
     "output_type": "stream",
     "text": [
      "num_batches_per_epoch: 150\n",
      "2020-10-21T16:35:26.266871: step 1, loss 0.790037, acc 0.5\n",
      "WARNING:tensorflow:From D:\\Tensorflow\\20201014cnn-text-classification\\train.py:241: The name tf.train.global_step is deprecated. Please use tf.compat.v1.train.global_step instead.\n",
      "\n"
     ]
    },
    {
     "name": "stderr",
     "output_type": "stream",
     "text": [
      "W1021 16:35:26.279876  6356 deprecation_wrapper.py:119] From D:\\Tensorflow\\20201014cnn-text-classification\\train.py:241: The name tf.train.global_step is deprecated. Please use tf.compat.v1.train.global_step instead.\n",
      "\n"
     ]
    },
    {
     "name": "stdout",
     "output_type": "stream",
     "text": [
      "2020-10-21T16:35:26.440767: step 2, loss 0.717555, acc 0.578125\n",
      "2020-10-21T16:35:26.594680: step 3, loss 0.83759, acc 0.4375\n",
      "2020-10-21T16:35:26.749591: step 4, loss 0.78603, acc 0.453125\n",
      "2020-10-21T16:35:26.898507: step 5, loss 0.789444, acc 0.515625\n",
      "2020-10-21T16:35:27.044421: step 6, loss 0.841226, acc 0.40625\n",
      "2020-10-21T16:35:27.178365: step 7, loss 0.799345, acc 0.46875\n",
      "2020-10-21T16:35:27.334260: step 8, loss 0.786842, acc 0.5\n",
      "2020-10-21T16:35:27.492167: step 9, loss 0.87547, acc 0.34375\n",
      "2020-10-21T16:35:27.706046: step 10, loss 0.726632, acc 0.546875\n",
      "2020-10-21T16:35:27.867952: step 11, loss 0.777425, acc 0.484375\n",
      "2020-10-21T16:35:28.013868: step 12, loss 0.897218, acc 0.375\n",
      "2020-10-21T16:35:28.161785: step 13, loss 0.727986, acc 0.5625\n",
      "2020-10-21T16:35:28.315696: step 14, loss 0.822473, acc 0.46875\n",
      "2020-10-21T16:35:28.453617: step 15, loss 0.772765, acc 0.515625\n",
      "2020-10-21T16:35:28.615525: step 16, loss 0.870324, acc 0.40625\n",
      "2020-10-21T16:35:28.770436: step 17, loss 0.812414, acc 0.484375\n",
      "2020-10-21T16:35:28.948335: step 18, loss 0.786515, acc 0.484375\n",
      "2020-10-21T16:35:29.098246: step 19, loss 0.88814, acc 0.390625\n",
      "2020-10-21T16:35:29.241165: step 20, loss 0.776017, acc 0.546875\n",
      "2020-10-21T16:35:29.386085: step 21, loss 0.737869, acc 0.546875\n",
      "2020-10-21T16:35:29.533999: step 22, loss 0.720004, acc 0.578125\n",
      "2020-10-21T16:35:29.677935: step 23, loss 0.705026, acc 0.5625\n",
      "2020-10-21T16:35:29.825831: step 24, loss 0.876713, acc 0.4375\n",
      "2020-10-21T16:35:29.970752: step 25, loss 0.859376, acc 0.4375\n",
      "2020-10-21T16:35:30.130659: step 26, loss 0.709618, acc 0.578125\n",
      "2020-10-21T16:35:30.275574: step 27, loss 0.694669, acc 0.59375\n",
      "2020-10-21T16:35:30.453473: step 28, loss 0.72498, acc 0.546875\n",
      "2020-10-21T16:35:30.619379: step 29, loss 0.795302, acc 0.5\n",
      "2020-10-21T16:35:30.787282: step 30, loss 0.837325, acc 0.453125\n",
      "2020-10-21T16:35:30.969190: step 31, loss 0.865883, acc 0.421875\n",
      "2020-10-21T16:35:31.119091: step 32, loss 0.802781, acc 0.5\n",
      "2020-10-21T16:35:31.268007: step 33, loss 0.765838, acc 0.484375\n",
      "2020-10-21T16:35:31.441908: step 34, loss 0.825932, acc 0.421875\n",
      "2020-10-21T16:35:31.583826: step 35, loss 0.778049, acc 0.515625\n",
      "2020-10-21T16:35:31.777716: step 36, loss 0.772023, acc 0.515625\n",
      "2020-10-21T16:35:31.929627: step 37, loss 0.781103, acc 0.5\n",
      "2020-10-21T16:35:32.081541: step 38, loss 0.736915, acc 0.546875\n",
      "2020-10-21T16:35:32.275431: step 39, loss 0.847791, acc 0.421875\n",
      "2020-10-21T16:35:32.432342: step 40, loss 0.7691, acc 0.515625\n",
      "2020-10-21T16:35:32.581255: step 41, loss 0.685896, acc 0.5625\n",
      "2020-10-21T16:35:32.756156: step 42, loss 0.7887, acc 0.484375\n",
      "2020-10-21T16:35:32.922062: step 43, loss 0.797364, acc 0.46875\n",
      "2020-10-21T16:35:33.063979: step 44, loss 0.731562, acc 0.515625\n",
      "2020-10-21T16:35:33.207896: step 45, loss 0.822997, acc 0.46875\n",
      "2020-10-21T16:35:33.387795: step 46, loss 0.850086, acc 0.40625\n",
      "2020-10-21T16:35:33.583683: step 47, loss 0.73923, acc 0.53125\n",
      "2020-10-21T16:35:33.750587: step 48, loss 0.76074, acc 0.515625\n",
      "2020-10-21T16:35:33.941788: step 49, loss 0.742176, acc 0.53125\n",
      "2020-10-21T16:35:34.103387: step 50, loss 0.766895, acc 0.53125\n",
      "2020-10-21T16:35:34.306270: step 51, loss 0.796817, acc 0.5\n",
      "2020-10-21T16:35:34.463178: step 52, loss 0.808329, acc 0.46875\n",
      "2020-10-21T16:35:34.623107: step 53, loss 0.697508, acc 0.578125\n",
      "2020-10-21T16:35:34.796989: step 54, loss 0.662678, acc 0.640625\n",
      "2020-10-21T16:35:34.960894: step 55, loss 0.867164, acc 0.375\n",
      "2020-10-21T16:35:35.099814: step 56, loss 0.701061, acc 0.5625\n",
      "2020-10-21T16:35:35.278712: step 57, loss 0.799247, acc 0.5\n",
      "2020-10-21T16:35:35.432644: step 58, loss 0.641879, acc 0.625\n",
      "2020-10-21T16:35:35.580539: step 59, loss 0.681854, acc 0.609375\n",
      "2020-10-21T16:35:35.724457: step 60, loss 0.71343, acc 0.609375\n",
      "2020-10-21T16:35:35.880368: step 61, loss 0.837269, acc 0.40625\n",
      "2020-10-21T16:35:36.021310: step 62, loss 0.675892, acc 0.59375\n",
      "2020-10-21T16:35:36.173201: step 63, loss 0.794587, acc 0.484375\n",
      "2020-10-21T16:35:36.324115: step 64, loss 0.751232, acc 0.46875\n",
      "2020-10-21T16:35:36.470031: step 65, loss 0.780045, acc 0.515625\n",
      "2020-10-21T16:35:36.609970: step 66, loss 0.807982, acc 0.46875\n",
      "2020-10-21T16:35:36.756866: step 67, loss 0.813762, acc 0.46875\n",
      "2020-10-21T16:35:36.906801: step 68, loss 0.834954, acc 0.453125\n",
      "2020-10-21T16:35:37.052718: step 69, loss 0.853795, acc 0.4375\n",
      "2020-10-21T16:35:37.185641: step 70, loss 0.686685, acc 0.625\n",
      "2020-10-21T16:35:37.339533: step 71, loss 0.799607, acc 0.484375\n",
      "2020-10-21T16:35:37.486451: step 72, loss 0.809702, acc 0.46875\n",
      "2020-10-21T16:35:37.640382: step 73, loss 0.756976, acc 0.53125\n",
      "2020-10-21T16:35:37.780282: step 74, loss 0.855561, acc 0.4375\n",
      "2020-10-21T16:35:37.926198: step 75, loss 0.782334, acc 0.5\n",
      "2020-10-21T16:35:38.068119: step 76, loss 0.902709, acc 0.375\n",
      "2020-10-21T16:35:38.223028: step 77, loss 0.794289, acc 0.515625\n",
      "2020-10-21T16:35:38.372943: step 78, loss 0.672862, acc 0.625\n",
      "2020-10-21T16:35:38.524855: step 79, loss 0.710354, acc 0.59375\n",
      "2020-10-21T16:35:38.668777: step 80, loss 0.732864, acc 0.5625\n",
      "2020-10-21T16:35:38.832679: step 81, loss 0.810251, acc 0.46875\n",
      "2020-10-21T16:35:38.977596: step 82, loss 0.783862, acc 0.484375\n",
      "2020-10-21T16:35:39.127511: step 83, loss 0.831454, acc 0.453125\n",
      "2020-10-21T16:35:39.271429: step 84, loss 0.659755, acc 0.640625\n",
      "2020-10-21T16:35:39.422343: step 85, loss 0.740912, acc 0.5625\n",
      "2020-10-21T16:35:39.582251: step 86, loss 0.795496, acc 0.484375\n",
      "2020-10-21T16:35:39.740161: step 87, loss 0.786866, acc 0.5\n",
      "2020-10-21T16:35:39.908065: step 88, loss 0.747492, acc 0.5\n",
      "2020-10-21T16:35:40.058979: step 89, loss 0.673291, acc 0.609375\n",
      "2020-10-21T16:35:40.199897: step 90, loss 0.780404, acc 0.453125\n",
      "2020-10-21T16:35:40.350814: step 91, loss 0.680558, acc 0.609375\n",
      "2020-10-21T16:35:40.495730: step 92, loss 0.804899, acc 0.46875\n",
      "2020-10-21T16:35:40.643644: step 93, loss 0.732615, acc 0.5625\n",
      "2020-10-21T16:35:40.783563: step 94, loss 0.759311, acc 0.515625\n",
      "2020-10-21T16:35:40.949469: step 95, loss 0.847243, acc 0.4375\n",
      "2020-10-21T16:35:41.118374: step 96, loss 0.70721, acc 0.59375\n",
      "2020-10-21T16:35:41.274284: step 97, loss 0.791051, acc 0.53125\n",
      "2020-10-21T16:35:41.418201: step 98, loss 0.895846, acc 0.359375\n",
      "2020-10-21T16:35:41.565116: step 99, loss 0.867279, acc 0.4375\n",
      "2020-10-21T16:35:41.711033: step 100, loss 0.7308, acc 0.5625\n",
      "\n",
      "Evaluation:\n",
      "2020-10-21T16:35:42.288704: step 100, loss 0.795341, acc 0.493433\n",
      "\n",
      "Saved model checkpoint to D:\\Tensorflow\\20201014cnn-text-classification\\runs\\1603269317\\checkpoints\\model-100\n",
      "\n",
      "2020-10-21T16:35:43.406063: step 101, loss 0.778058, acc 0.546875\n",
      "2020-10-21T16:35:43.551982: step 102, loss 0.728737, acc 0.546875\n",
      "2020-10-21T16:35:43.699896: step 103, loss 0.719414, acc 0.609375\n",
      "2020-10-21T16:35:43.848811: step 104, loss 0.808213, acc 0.453125\n",
      "2020-10-21T16:35:43.992731: step 105, loss 0.832882, acc 0.421875\n",
      "2020-10-21T16:35:44.143662: step 106, loss 0.853357, acc 0.390625\n",
      "2020-10-21T16:35:44.289559: step 107, loss 0.737375, acc 0.546875\n",
      "2020-10-21T16:35:44.443471: step 108, loss 0.689318, acc 0.59375\n",
      "2020-10-21T16:35:44.588386: step 109, loss 0.805462, acc 0.5\n",
      "2020-10-21T16:35:44.734306: step 110, loss 0.844175, acc 0.453125\n",
      "2020-10-21T16:35:44.878241: step 111, loss 0.787691, acc 0.5\n",
      "2020-10-21T16:35:45.042128: step 112, loss 0.694182, acc 0.59375\n",
      "2020-10-21T16:35:45.198042: step 113, loss 0.724617, acc 0.59375\n",
      "2020-10-21T16:35:45.373938: step 114, loss 0.785117, acc 0.46875\n",
      "2020-10-21T16:35:45.514857: step 115, loss 0.740255, acc 0.5625\n",
      "2020-10-21T16:35:45.659774: step 116, loss 0.691571, acc 0.609375\n",
      "2020-10-21T16:35:45.803694: step 117, loss 0.729772, acc 0.578125\n",
      "2020-10-21T16:35:45.944613: step 118, loss 0.626184, acc 0.671875\n",
      "2020-10-21T16:35:46.088533: step 119, loss 0.69064, acc 0.578125\n",
      "2020-10-21T16:35:46.251438: step 120, loss 0.756804, acc 0.53125\n",
      "2020-10-21T16:35:46.389357: step 121, loss 0.60666, acc 0.640625\n",
      "2020-10-21T16:35:46.537274: step 122, loss 0.77567, acc 0.5\n",
      "2020-10-21T16:35:46.685189: step 123, loss 0.706969, acc 0.5625\n",
      "2020-10-21T16:35:46.832104: step 124, loss 0.738096, acc 0.546875\n",
      "2020-10-21T16:35:46.977021: step 125, loss 0.705729, acc 0.59375\n",
      "2020-10-21T16:35:47.119940: step 126, loss 0.779598, acc 0.53125\n",
      "2020-10-21T16:35:47.259859: step 127, loss 0.727164, acc 0.53125\n"
     ]
    },
    {
     "name": "stdout",
     "output_type": "stream",
     "text": [
      "2020-10-21T16:35:47.410775: step 128, loss 0.720893, acc 0.578125\n",
      "2020-10-21T16:35:47.551692: step 129, loss 0.73472, acc 0.515625\n",
      "2020-10-21T16:35:47.696629: step 130, loss 0.717038, acc 0.546875\n",
      "2020-10-21T16:35:47.839529: step 131, loss 0.703899, acc 0.59375\n",
      "2020-10-21T16:35:47.985444: step 132, loss 0.712096, acc 0.5625\n",
      "2020-10-21T16:35:48.127363: step 133, loss 0.718481, acc 0.578125\n",
      "2020-10-21T16:35:48.280277: step 134, loss 0.800717, acc 0.484375\n",
      "2020-10-21T16:35:48.422214: step 135, loss 0.755092, acc 0.53125\n",
      "2020-10-21T16:35:48.568114: step 136, loss 0.837414, acc 0.453125\n",
      "2020-10-21T16:35:48.715027: step 137, loss 0.721297, acc 0.53125\n",
      "2020-10-21T16:35:48.871938: step 138, loss 0.671364, acc 0.625\n",
      "2020-10-21T16:35:49.017854: step 139, loss 0.731661, acc 0.5625\n",
      "2020-10-21T16:35:49.158773: step 140, loss 0.713837, acc 0.578125\n",
      "2020-10-21T16:35:49.303694: step 141, loss 0.740718, acc 0.546875\n",
      "2020-10-21T16:35:49.450608: step 142, loss 0.783846, acc 0.5\n",
      "2020-10-21T16:35:49.604520: step 143, loss 0.642282, acc 0.671875\n",
      "2020-10-21T16:35:49.752435: step 144, loss 0.765081, acc 0.515625\n",
      "2020-10-21T16:35:49.902349: step 145, loss 0.801838, acc 0.484375\n",
      "2020-10-21T16:35:50.047265: step 146, loss 0.666156, acc 0.609375\n",
      "2020-10-21T16:35:50.193202: step 147, loss 0.81502, acc 0.46875\n",
      "2020-10-21T16:35:50.345096: step 148, loss 0.726011, acc 0.578125\n",
      "2020-10-21T16:35:50.513998: step 149, loss 0.80819, acc 0.421875\n",
      "2020-10-21T16:35:52.327962: step 150, loss 0.816355, acc 0.45\n",
      "2020-10-21T16:35:52.504860: step 151, loss 0.668541, acc 0.625\n",
      "2020-10-21T16:35:52.681758: step 152, loss 0.700207, acc 0.59375\n",
      "2020-10-21T16:35:52.853661: step 153, loss 0.641444, acc 0.65625\n",
      "2020-10-21T16:35:53.032558: step 154, loss 0.702551, acc 0.578125\n",
      "2020-10-21T16:35:53.193466: step 155, loss 0.631194, acc 0.6875\n",
      "2020-10-21T16:35:53.343381: step 156, loss 0.795103, acc 0.453125\n",
      "2020-10-21T16:35:53.493295: step 157, loss 0.649517, acc 0.640625\n",
      "2020-10-21T16:35:53.644208: step 158, loss 0.677617, acc 0.640625\n",
      "2020-10-21T16:35:53.788125: step 159, loss 0.7071, acc 0.578125\n",
      "2020-10-21T16:35:53.939039: step 160, loss 0.788167, acc 0.484375\n",
      "2020-10-21T16:35:54.087953: step 161, loss 0.731132, acc 0.5625\n",
      "2020-10-21T16:35:54.234873: step 162, loss 0.629609, acc 0.6875\n",
      "2020-10-21T16:35:54.383784: step 163, loss 0.730316, acc 0.5625\n",
      "2020-10-21T16:35:54.533699: step 164, loss 0.737259, acc 0.546875\n",
      "2020-10-21T16:35:54.675618: step 165, loss 0.672528, acc 0.578125\n",
      "2020-10-21T16:35:54.826531: step 166, loss 0.710027, acc 0.546875\n",
      "2020-10-21T16:35:54.970450: step 167, loss 0.731935, acc 0.53125\n",
      "2020-10-21T16:35:55.123362: step 168, loss 0.640327, acc 0.671875\n",
      "2020-10-21T16:35:55.265301: step 169, loss 0.696954, acc 0.578125\n",
      "2020-10-21T16:35:55.415214: step 170, loss 0.6317, acc 0.65625\n",
      "2020-10-21T16:35:55.560113: step 171, loss 0.694994, acc 0.59375\n",
      "2020-10-21T16:35:55.713045: step 172, loss 0.676806, acc 0.640625\n",
      "2020-10-21T16:35:55.860941: step 173, loss 0.78494, acc 0.5\n",
      "2020-10-21T16:35:56.029847: step 174, loss 0.638522, acc 0.640625\n",
      "2020-10-21T16:35:56.195750: step 175, loss 0.731066, acc 0.5625\n",
      "2020-10-21T16:35:56.346662: step 176, loss 0.635331, acc 0.625\n",
      "2020-10-21T16:35:56.488581: step 177, loss 0.709242, acc 0.59375\n",
      "2020-10-21T16:35:56.645491: step 178, loss 0.603937, acc 0.671875\n",
      "2020-10-21T16:35:56.790429: step 179, loss 0.616723, acc 0.6875\n",
      "2020-10-21T16:35:56.946319: step 180, loss 0.761985, acc 0.53125\n",
      "2020-10-21T16:35:57.085239: step 181, loss 0.587265, acc 0.71875\n",
      "2020-10-21T16:35:57.221182: step 182, loss 0.780562, acc 0.5\n",
      "2020-10-21T16:35:57.364081: step 183, loss 0.715831, acc 0.5625\n",
      "2020-10-21T16:35:57.515994: step 184, loss 0.713215, acc 0.546875\n",
      "2020-10-21T16:35:57.656912: step 185, loss 0.635477, acc 0.671875\n",
      "2020-10-21T16:35:57.807826: step 186, loss 0.694282, acc 0.609375\n",
      "2020-10-21T16:35:57.954742: step 187, loss 0.633951, acc 0.6875\n",
      "2020-10-21T16:35:58.112651: step 188, loss 0.665407, acc 0.578125\n",
      "2020-10-21T16:35:58.259568: step 189, loss 0.676983, acc 0.625\n",
      "2020-10-21T16:35:58.418477: step 190, loss 0.721971, acc 0.515625\n",
      "2020-10-21T16:35:58.563395: step 191, loss 0.674455, acc 0.640625\n",
      "2020-10-21T16:35:58.716327: step 192, loss 0.749736, acc 0.53125\n",
      "2020-10-21T16:35:58.875217: step 193, loss 0.728715, acc 0.546875\n",
      "2020-10-21T16:35:59.027129: step 194, loss 0.773561, acc 0.515625\n",
      "2020-10-21T16:35:59.167049: step 195, loss 0.708232, acc 0.578125\n",
      "2020-10-21T16:35:59.321980: step 196, loss 0.703372, acc 0.578125\n",
      "2020-10-21T16:35:59.469876: step 197, loss 0.680766, acc 0.640625\n",
      "2020-10-21T16:35:59.622788: step 198, loss 0.707779, acc 0.59375\n",
      "2020-10-21T16:35:59.769705: step 199, loss 0.789528, acc 0.484375\n",
      "2020-10-21T16:35:59.916620: step 200, loss 0.733254, acc 0.5625\n",
      "\n",
      "Evaluation:\n",
      "2020-10-21T16:36:00.089522: step 200, loss 0.701267, acc 0.580675\n",
      "\n",
      "Saved model checkpoint to D:\\Tensorflow\\20201014cnn-text-classification\\runs\\1603269317\\checkpoints\\model-200\n",
      "\n",
      "2020-10-21T16:36:01.633639: step 201, loss 0.739051, acc 0.546875\n",
      "2020-10-21T16:36:01.786552: step 202, loss 0.67245, acc 0.625\n",
      "2020-10-21T16:36:01.931487: step 203, loss 0.705242, acc 0.59375\n",
      "2020-10-21T16:36:02.092377: step 204, loss 0.680012, acc 0.625\n",
      "2020-10-21T16:36:02.233295: step 205, loss 0.689822, acc 0.640625\n",
      "2020-10-21T16:36:02.391225: step 206, loss 0.769388, acc 0.515625\n",
      "2020-10-21T16:36:02.544119: step 207, loss 0.705324, acc 0.578125\n",
      "2020-10-21T16:36:02.698029: step 208, loss 0.571167, acc 0.703125\n",
      "2020-10-21T16:36:02.840947: step 209, loss 0.725595, acc 0.5625\n",
      "2020-10-21T16:36:03.006853: step 210, loss 0.80185, acc 0.484375\n",
      "2020-10-21T16:36:03.142774: step 211, loss 0.665383, acc 0.640625\n",
      "2020-10-21T16:36:03.294707: step 212, loss 0.715787, acc 0.546875\n",
      "2020-10-21T16:36:03.439604: step 213, loss 0.744474, acc 0.484375\n",
      "2020-10-21T16:36:03.582523: step 214, loss 0.702196, acc 0.5625\n",
      "2020-10-21T16:36:03.728439: step 215, loss 0.734585, acc 0.546875\n",
      "2020-10-21T16:36:03.880353: step 216, loss 0.690467, acc 0.609375\n",
      "2020-10-21T16:36:04.028269: step 217, loss 0.740891, acc 0.546875\n",
      "2020-10-21T16:36:04.175184: step 218, loss 0.752978, acc 0.53125\n",
      "2020-10-21T16:36:04.328097: step 219, loss 0.716285, acc 0.546875\n",
      "2020-10-21T16:36:04.485008: step 220, loss 0.636663, acc 0.65625\n",
      "2020-10-21T16:36:04.629924: step 221, loss 0.644736, acc 0.625\n",
      "2020-10-21T16:36:04.778839: step 222, loss 0.671991, acc 0.625\n",
      "2020-10-21T16:36:04.919760: step 223, loss 0.716811, acc 0.59375\n",
      "2020-10-21T16:36:05.068674: step 224, loss 0.737468, acc 0.5625\n",
      "2020-10-21T16:36:05.202598: step 225, loss 0.73305, acc 0.546875\n",
      "2020-10-21T16:36:05.351514: step 226, loss 0.608615, acc 0.703125\n",
      "2020-10-21T16:36:05.491451: step 227, loss 0.609934, acc 0.6875\n",
      "2020-10-21T16:36:05.638348: step 228, loss 0.736504, acc 0.53125\n",
      "2020-10-21T16:36:05.780266: step 229, loss 0.717437, acc 0.53125\n",
      "2020-10-21T16:36:05.929181: step 230, loss 0.649497, acc 0.65625\n",
      "2020-10-21T16:36:06.073098: step 231, loss 0.605082, acc 0.671875\n",
      "2020-10-21T16:36:06.219018: step 232, loss 0.714611, acc 0.5625\n",
      "2020-10-21T16:36:06.370929: step 233, loss 0.628466, acc 0.671875\n",
      "2020-10-21T16:36:06.522841: step 234, loss 0.607453, acc 0.671875\n",
      "2020-10-21T16:36:06.667760: step 235, loss 0.589578, acc 0.71875\n",
      "2020-10-21T16:36:06.842659: step 236, loss 0.713441, acc 0.578125\n",
      "2020-10-21T16:36:06.995571: step 237, loss 0.603104, acc 0.703125\n",
      "2020-10-21T16:36:07.149482: step 238, loss 0.752701, acc 0.53125\n",
      "2020-10-21T16:36:07.288403: step 239, loss 0.668443, acc 0.609375\n",
      "2020-10-21T16:36:07.444314: step 240, loss 0.649881, acc 0.625\n",
      "2020-10-21T16:36:07.590231: step 241, loss 0.642204, acc 0.671875\n",
      "2020-10-21T16:36:07.743143: step 242, loss 0.629873, acc 0.671875\n",
      "2020-10-21T16:36:07.889061: step 243, loss 0.717042, acc 0.59375\n",
      "2020-10-21T16:36:08.047969: step 244, loss 0.705106, acc 0.546875\n",
      "2020-10-21T16:36:08.196884: step 245, loss 0.717083, acc 0.578125\n",
      "2020-10-21T16:36:08.356793: step 246, loss 0.702315, acc 0.5625\n",
      "2020-10-21T16:36:08.510704: step 247, loss 0.70112, acc 0.578125\n",
      "2020-10-21T16:36:08.666616: step 248, loss 0.677299, acc 0.625\n",
      "2020-10-21T16:36:08.825524: step 249, loss 0.780757, acc 0.46875\n",
      "2020-10-21T16:36:08.981437: step 250, loss 0.673634, acc 0.609375\n",
      "2020-10-21T16:36:09.116358: step 251, loss 0.662881, acc 0.625\n"
     ]
    },
    {
     "name": "stdout",
     "output_type": "stream",
     "text": [
      "2020-10-21T16:36:09.272269: step 252, loss 0.667265, acc 0.609375\n",
      "2020-10-21T16:36:09.417186: step 253, loss 0.701038, acc 0.609375\n",
      "2020-10-21T16:36:09.564102: step 254, loss 0.645345, acc 0.609375\n",
      "2020-10-21T16:36:09.736008: step 255, loss 0.689312, acc 0.609375\n",
      "2020-10-21T16:36:09.908904: step 256, loss 0.652463, acc 0.640625\n",
      "2020-10-21T16:36:10.062816: step 257, loss 0.810035, acc 0.46875\n",
      "2020-10-21T16:36:10.208734: step 258, loss 0.630291, acc 0.703125\n",
      "2020-10-21T16:36:10.356648: step 259, loss 0.720808, acc 0.53125\n",
      "2020-10-21T16:36:10.505568: step 260, loss 0.66331, acc 0.59375\n",
      "2020-10-21T16:36:10.685461: step 261, loss 0.622262, acc 0.671875\n",
      "2020-10-21T16:36:10.835375: step 262, loss 0.70979, acc 0.5625\n",
      "2020-10-21T16:36:10.975298: step 263, loss 0.695807, acc 0.609375\n",
      "2020-10-21T16:36:11.113216: step 264, loss 0.703226, acc 0.5625\n",
      "2020-10-21T16:36:11.276123: step 265, loss 0.559096, acc 0.734375\n",
      "2020-10-21T16:36:11.442027: step 266, loss 0.654432, acc 0.640625\n",
      "2020-10-21T16:36:11.586947: step 267, loss 0.765982, acc 0.53125\n",
      "2020-10-21T16:36:11.740877: step 268, loss 0.667509, acc 0.640625\n",
      "2020-10-21T16:36:11.897767: step 269, loss 0.567126, acc 0.703125\n",
      "2020-10-21T16:36:12.060675: step 270, loss 0.595944, acc 0.671875\n",
      "2020-10-21T16:36:12.214588: step 271, loss 0.672713, acc 0.640625\n",
      "2020-10-21T16:36:12.370497: step 272, loss 0.730282, acc 0.546875\n",
      "2020-10-21T16:36:12.579380: step 273, loss 0.677837, acc 0.625\n",
      "2020-10-21T16:36:12.740284: step 274, loss 0.636502, acc 0.65625\n",
      "2020-10-21T16:36:12.886204: step 275, loss 0.640494, acc 0.65625\n",
      "2020-10-21T16:36:13.031118: step 276, loss 0.740212, acc 0.53125\n",
      "2020-10-21T16:36:13.170039: step 277, loss 0.672466, acc 0.609375\n",
      "2020-10-21T16:36:13.321953: step 278, loss 0.699939, acc 0.59375\n",
      "2020-10-21T16:36:13.471867: step 279, loss 0.634143, acc 0.671875\n",
      "2020-10-21T16:36:13.627797: step 280, loss 0.595854, acc 0.71875\n",
      "2020-10-21T16:36:13.777712: step 281, loss 0.629666, acc 0.65625\n",
      "2020-10-21T16:36:13.916612: step 282, loss 0.687705, acc 0.5625\n",
      "2020-10-21T16:36:14.065527: step 283, loss 0.719229, acc 0.546875\n",
      "2020-10-21T16:36:14.209445: step 284, loss 0.672856, acc 0.609375\n",
      "2020-10-21T16:36:14.355362: step 285, loss 0.658353, acc 0.640625\n",
      "2020-10-21T16:36:14.502280: step 286, loss 0.706919, acc 0.578125\n",
      "2020-10-21T16:36:14.653193: step 287, loss 0.637036, acc 0.640625\n",
      "2020-10-21T16:36:14.799107: step 288, loss 0.668577, acc 0.609375\n",
      "2020-10-21T16:36:14.954041: step 289, loss 0.63786, acc 0.65625\n",
      "2020-10-21T16:36:15.090942: step 290, loss 0.645205, acc 0.671875\n",
      "2020-10-21T16:36:15.228863: step 291, loss 0.642712, acc 0.65625\n",
      "2020-10-21T16:36:15.374778: step 292, loss 0.625781, acc 0.65625\n",
      "2020-10-21T16:36:15.518695: step 293, loss 0.624928, acc 0.6875\n",
      "2020-10-21T16:36:15.661614: step 294, loss 0.656912, acc 0.640625\n",
      "2020-10-21T16:36:15.814526: step 295, loss 0.718412, acc 0.5625\n",
      "2020-10-21T16:36:15.953450: step 296, loss 0.644715, acc 0.671875\n",
      "2020-10-21T16:36:16.105361: step 297, loss 0.696567, acc 0.59375\n",
      "2020-10-21T16:36:16.250278: step 298, loss 0.637926, acc 0.640625\n",
      "2020-10-21T16:36:16.415183: step 299, loss 0.803953, acc 0.484375\n",
      "2020-10-21T16:36:16.550106: step 300, loss 0.696693, acc 0.566667\n",
      "\n",
      "Evaluation:\n",
      "2020-10-21T16:36:16.720009: step 300, loss 0.67511, acc 0.595685\n",
      "\n",
      "Saved model checkpoint to D:\\Tensorflow\\20201014cnn-text-classification\\runs\\1603269317\\checkpoints\\model-300\n",
      "\n",
      "2020-10-21T16:36:17.769410: step 301, loss 0.743249, acc 0.53125\n",
      "2020-10-21T16:36:17.945309: step 302, loss 0.571599, acc 0.734375\n",
      "2020-10-21T16:36:18.097221: step 303, loss 0.571564, acc 0.75\n",
      "2020-10-21T16:36:18.252133: step 304, loss 0.61665, acc 0.6875\n",
      "2020-10-21T16:36:18.398048: step 305, loss 0.718214, acc 0.578125\n",
      "2020-10-21T16:36:18.540967: step 306, loss 0.608567, acc 0.71875\n",
      "2020-10-21T16:36:18.685885: step 307, loss 0.684976, acc 0.59375\n",
      "2020-10-21T16:36:18.841795: step 308, loss 0.634729, acc 0.65625\n",
      "2020-10-21T16:36:18.985714: step 309, loss 0.61448, acc 0.640625\n",
      "2020-10-21T16:36:19.133629: step 310, loss 0.660254, acc 0.625\n",
      "2020-10-21T16:36:19.273549: step 311, loss 0.667966, acc 0.640625\n",
      "2020-10-21T16:36:19.419467: step 312, loss 0.628792, acc 0.671875\n",
      "2020-10-21T16:36:19.559385: step 313, loss 0.588863, acc 0.703125\n",
      "2020-10-21T16:36:19.709298: step 314, loss 0.590053, acc 0.6875\n",
      "2020-10-21T16:36:19.852240: step 315, loss 0.673316, acc 0.625\n",
      "2020-10-21T16:36:19.995136: step 316, loss 0.675995, acc 0.609375\n",
      "2020-10-21T16:36:20.136057: step 317, loss 0.700397, acc 0.59375\n",
      "2020-10-21T16:36:20.286970: step 318, loss 0.67045, acc 0.609375\n",
      "2020-10-21T16:36:20.432886: step 319, loss 0.685008, acc 0.625\n",
      "2020-10-21T16:36:20.584802: step 320, loss 0.661685, acc 0.640625\n",
      "2020-10-21T16:36:20.722718: step 321, loss 0.630752, acc 0.671875\n",
      "2020-10-21T16:36:20.872633: step 322, loss 0.683251, acc 0.609375\n",
      "2020-10-21T16:36:21.012554: step 323, loss 0.616429, acc 0.65625\n",
      "2020-10-21T16:36:21.150474: step 324, loss 0.67922, acc 0.609375\n",
      "2020-10-21T16:36:21.291394: step 325, loss 0.626725, acc 0.671875\n",
      "2020-10-21T16:36:21.446305: step 326, loss 0.540471, acc 0.75\n",
      "2020-10-21T16:36:21.595220: step 327, loss 0.561228, acc 0.75\n",
      "2020-10-21T16:36:21.741136: step 328, loss 0.645064, acc 0.625\n",
      "2020-10-21T16:36:21.889073: step 329, loss 0.759422, acc 0.53125\n",
      "2020-10-21T16:36:22.037968: step 330, loss 0.660071, acc 0.671875\n",
      "2020-10-21T16:36:22.183883: step 331, loss 0.590839, acc 0.703125\n",
      "2020-10-21T16:36:22.343812: step 332, loss 0.693451, acc 0.578125\n",
      "2020-10-21T16:36:22.483714: step 333, loss 0.717431, acc 0.5625\n",
      "2020-10-21T16:36:22.636626: step 334, loss 0.622462, acc 0.65625\n",
      "2020-10-21T16:36:22.780542: step 335, loss 0.660279, acc 0.625\n",
      "2020-10-21T16:36:22.927458: step 336, loss 0.708342, acc 0.59375\n",
      "2020-10-21T16:36:23.068378: step 337, loss 0.626748, acc 0.625\n",
      "2020-10-21T16:36:23.222292: step 338, loss 0.682053, acc 0.59375\n",
      "2020-10-21T16:36:23.375202: step 339, loss 0.569218, acc 0.734375\n",
      "2020-10-21T16:36:23.542106: step 340, loss 0.656377, acc 0.640625\n",
      "2020-10-21T16:36:23.684026: step 341, loss 0.677732, acc 0.59375\n",
      "2020-10-21T16:36:23.833943: step 342, loss 0.549837, acc 0.78125\n",
      "2020-10-21T16:36:23.977856: step 343, loss 0.54703, acc 0.734375\n",
      "2020-10-21T16:36:24.127772: step 344, loss 0.644819, acc 0.640625\n",
      "2020-10-21T16:36:24.273708: step 345, loss 0.525694, acc 0.796875\n",
      "2020-10-21T16:36:24.418606: step 346, loss 0.625126, acc 0.65625\n",
      "2020-10-21T16:36:24.564521: step 347, loss 0.705579, acc 0.546875\n",
      "2020-10-21T16:36:24.723430: step 348, loss 0.689007, acc 0.578125\n",
      "2020-10-21T16:36:24.864350: step 349, loss 0.554847, acc 0.75\n",
      "2020-10-21T16:36:25.021260: step 350, loss 0.561335, acc 0.75\n",
      "2020-10-21T16:36:25.161180: step 351, loss 0.577662, acc 0.6875\n",
      "2020-10-21T16:36:25.304101: step 352, loss 0.665745, acc 0.65625\n",
      "2020-10-21T16:36:25.444018: step 353, loss 0.616688, acc 0.6875\n",
      "2020-10-21T16:36:25.600930: step 354, loss 0.589838, acc 0.734375\n",
      "2020-10-21T16:36:25.744846: step 355, loss 0.533417, acc 0.765625\n",
      "2020-10-21T16:36:25.903757: step 356, loss 0.636815, acc 0.640625\n",
      "2020-10-21T16:36:26.048675: step 357, loss 0.624007, acc 0.6875\n",
      "2020-10-21T16:36:26.201590: step 358, loss 0.661461, acc 0.625\n",
      "2020-10-21T16:36:26.348501: step 359, loss 0.593753, acc 0.6875\n",
      "2020-10-21T16:36:26.499415: step 360, loss 0.639461, acc 0.640625\n",
      "2020-10-21T16:36:26.640334: step 361, loss 0.717836, acc 0.546875\n",
      "2020-10-21T16:36:26.787251: step 362, loss 0.677246, acc 0.59375\n",
      "2020-10-21T16:36:26.935169: step 363, loss 0.64182, acc 0.65625\n",
      "2020-10-21T16:36:27.078085: step 364, loss 0.675901, acc 0.578125\n",
      "2020-10-21T16:36:27.210011: step 365, loss 0.618355, acc 0.6875\n",
      "2020-10-21T16:36:27.357923: step 366, loss 0.633354, acc 0.6875\n",
      "2020-10-21T16:36:27.502843: step 367, loss 0.597772, acc 0.703125\n",
      "2020-10-21T16:36:27.655753: step 368, loss 0.71077, acc 0.609375\n",
      "2020-10-21T16:36:27.799691: step 369, loss 0.704013, acc 0.578125\n",
      "2020-10-21T16:36:27.948607: step 370, loss 0.634811, acc 0.6875\n",
      "2020-10-21T16:36:28.091504: step 371, loss 0.607946, acc 0.71875\n",
      "2020-10-21T16:36:28.245418: step 372, loss 0.704993, acc 0.59375\n",
      "2020-10-21T16:36:28.391334: step 373, loss 0.653427, acc 0.640625\n",
      "2020-10-21T16:36:28.548244: step 374, loss 0.612503, acc 0.671875\n",
      "2020-10-21T16:36:28.712150: step 375, loss 0.655325, acc 0.640625\n"
     ]
    },
    {
     "name": "stdout",
     "output_type": "stream",
     "text": [
      "2020-10-21T16:36:28.875057: step 376, loss 0.610799, acc 0.6875\n",
      "2020-10-21T16:36:29.028968: step 377, loss 0.64171, acc 0.671875\n",
      "2020-10-21T16:36:29.170887: step 378, loss 0.596647, acc 0.71875\n",
      "2020-10-21T16:36:29.317803: step 379, loss 0.664435, acc 0.609375\n",
      "2020-10-21T16:36:29.463719: step 380, loss 0.595857, acc 0.71875\n",
      "2020-10-21T16:36:29.605639: step 381, loss 0.639208, acc 0.703125\n",
      "2020-10-21T16:36:29.750557: step 382, loss 0.580946, acc 0.71875\n",
      "2020-10-21T16:36:29.891475: step 383, loss 0.640682, acc 0.65625\n",
      "2020-10-21T16:36:30.037393: step 384, loss 0.735738, acc 0.53125\n",
      "2020-10-21T16:36:30.181311: step 385, loss 0.612445, acc 0.671875\n",
      "2020-10-21T16:36:30.332226: step 386, loss 0.562915, acc 0.765625\n",
      "2020-10-21T16:36:30.470146: step 387, loss 0.561157, acc 0.75\n",
      "2020-10-21T16:36:30.619063: step 388, loss 0.697891, acc 0.578125\n",
      "2020-10-21T16:36:30.760979: step 389, loss 0.582159, acc 0.734375\n",
      "2020-10-21T16:36:30.912892: step 390, loss 0.605693, acc 0.703125\n",
      "2020-10-21T16:36:31.049832: step 391, loss 0.693836, acc 0.578125\n",
      "2020-10-21T16:36:31.186754: step 392, loss 0.692051, acc 0.625\n",
      "2020-10-21T16:36:31.324655: step 393, loss 0.62673, acc 0.671875\n",
      "2020-10-21T16:36:31.472570: step 394, loss 0.646518, acc 0.609375\n",
      "2020-10-21T16:36:31.618487: step 395, loss 0.589475, acc 0.734375\n",
      "2020-10-21T16:36:31.765402: step 396, loss 0.613487, acc 0.71875\n",
      "2020-10-21T16:36:31.906322: step 397, loss 0.544095, acc 0.75\n",
      "2020-10-21T16:36:32.056236: step 398, loss 0.585547, acc 0.703125\n",
      "2020-10-21T16:36:32.198156: step 399, loss 0.625035, acc 0.671875\n",
      "2020-10-21T16:36:32.349069: step 400, loss 0.593913, acc 0.703125\n",
      "\n",
      "Evaluation:\n",
      "2020-10-21T16:36:32.520971: step 400, loss 0.656979, acc 0.62758\n",
      "\n",
      "Saved model checkpoint to D:\\Tensorflow\\20201014cnn-text-classification\\runs\\1603269317\\checkpoints\\model-400\n",
      "\n",
      "2020-10-21T16:36:33.521419: step 401, loss 0.65016, acc 0.625\n",
      "2020-10-21T16:36:33.668315: step 402, loss 0.547047, acc 0.75\n",
      "2020-10-21T16:36:33.815230: step 403, loss 0.618031, acc 0.6875\n",
      "2020-10-21T16:36:33.960147: step 404, loss 0.593142, acc 0.71875\n",
      "2020-10-21T16:36:34.111061: step 405, loss 0.695508, acc 0.609375\n",
      "2020-10-21T16:36:34.273969: step 406, loss 0.574707, acc 0.734375\n",
      "2020-10-21T16:36:34.429879: step 407, loss 0.637589, acc 0.671875\n",
      "2020-10-21T16:36:34.581792: step 408, loss 0.669062, acc 0.640625\n",
      "2020-10-21T16:36:34.725710: step 409, loss 0.631564, acc 0.703125\n",
      "2020-10-21T16:36:34.873624: step 410, loss 0.707645, acc 0.5625\n",
      "2020-10-21T16:36:35.012546: step 411, loss 0.70678, acc 0.578125\n",
      "2020-10-21T16:36:35.156465: step 412, loss 0.610194, acc 0.671875\n",
      "2020-10-21T16:36:35.297382: step 413, loss 0.676554, acc 0.625\n",
      "2020-10-21T16:36:35.438303: step 414, loss 0.652803, acc 0.625\n",
      "2020-10-21T16:36:35.582220: step 415, loss 0.53407, acc 0.78125\n",
      "2020-10-21T16:36:35.735133: step 416, loss 0.61356, acc 0.671875\n",
      "2020-10-21T16:36:35.878050: step 417, loss 0.643566, acc 0.59375\n",
      "2020-10-21T16:36:36.026965: step 418, loss 0.593521, acc 0.6875\n",
      "2020-10-21T16:36:36.169887: step 419, loss 0.639341, acc 0.640625\n",
      "2020-10-21T16:36:36.373767: step 420, loss 0.592744, acc 0.703125\n",
      "2020-10-21T16:36:36.539673: step 421, loss 0.598551, acc 0.6875\n",
      "2020-10-21T16:36:36.694585: step 422, loss 0.613014, acc 0.671875\n",
      "2020-10-21T16:36:36.859489: step 423, loss 0.684593, acc 0.609375\n",
      "2020-10-21T16:36:37.022396: step 424, loss 0.550411, acc 0.75\n",
      "2020-10-21T16:36:37.192301: step 425, loss 0.614319, acc 0.65625\n",
      "2020-10-21T16:36:37.356206: step 426, loss 0.582399, acc 0.71875\n",
      "2020-10-21T16:36:37.497125: step 427, loss 0.658683, acc 0.640625\n",
      "2020-10-21T16:36:37.700009: step 428, loss 0.608471, acc 0.703125\n",
      "2020-10-21T16:36:37.838931: step 429, loss 0.628594, acc 0.65625\n",
      "2020-10-21T16:36:37.986846: step 430, loss 0.629474, acc 0.640625\n",
      "2020-10-21T16:36:38.178737: step 431, loss 0.607318, acc 0.65625\n",
      "2020-10-21T16:36:38.341641: step 432, loss 0.571981, acc 0.765625\n",
      "2020-10-21T16:36:38.490556: step 433, loss 0.684309, acc 0.625\n",
      "2020-10-21T16:36:38.698439: step 434, loss 0.617799, acc 0.65625\n",
      "2020-10-21T16:36:38.854348: step 435, loss 0.73644, acc 0.5625\n",
      "2020-10-21T16:36:39.002263: step 436, loss 0.589571, acc 0.703125\n",
      "2020-10-21T16:36:39.160176: step 437, loss 0.569024, acc 0.734375\n",
      "2020-10-21T16:36:39.339071: step 438, loss 0.614482, acc 0.671875\n",
      "2020-10-21T16:36:39.523967: step 439, loss 0.600907, acc 0.671875\n",
      "2020-10-21T16:36:39.684875: step 440, loss 0.634147, acc 0.640625\n",
      "2020-10-21T16:36:39.877763: step 441, loss 0.578167, acc 0.734375\n",
      "2020-10-21T16:36:40.039671: step 442, loss 0.69169, acc 0.625\n",
      "2020-10-21T16:36:40.219569: step 443, loss 0.755231, acc 0.515625\n",
      "2020-10-21T16:36:40.362485: step 444, loss 0.614029, acc 0.671875\n",
      "2020-10-21T16:36:40.554378: step 445, loss 0.679426, acc 0.59375\n",
      "2020-10-21T16:36:40.702292: step 446, loss 0.646652, acc 0.65625\n",
      "2020-10-21T16:36:40.853206: step 447, loss 0.698256, acc 0.59375\n",
      "2020-10-21T16:36:41.033104: step 448, loss 0.585706, acc 0.703125\n",
      "2020-10-21T16:36:41.194010: step 449, loss 0.688082, acc 0.59375\n",
      "2020-10-21T16:36:41.340927: step 450, loss 0.699, acc 0.583333\n",
      "2020-10-21T16:36:41.489842: step 451, loss 0.589256, acc 0.703125\n",
      "2020-10-21T16:36:41.634757: step 452, loss 0.66953, acc 0.625\n",
      "2020-10-21T16:36:41.783673: step 453, loss 0.564033, acc 0.734375\n",
      "2020-10-21T16:36:41.977561: step 454, loss 0.533059, acc 0.78125\n",
      "2020-10-21T16:36:42.125477: step 455, loss 0.605571, acc 0.65625\n",
      "2020-10-21T16:36:42.280392: step 456, loss 0.613857, acc 0.6875\n",
      "2020-10-21T16:36:42.420310: step 457, loss 0.633827, acc 0.65625\n",
      "2020-10-21T16:36:42.571224: step 458, loss 0.591142, acc 0.6875\n",
      "2020-10-21T16:36:42.717162: step 459, loss 0.553003, acc 0.765625\n",
      "2020-10-21T16:36:42.866053: step 460, loss 0.595666, acc 0.703125\n",
      "2020-10-21T16:36:43.011970: step 461, loss 0.658609, acc 0.625\n",
      "2020-10-21T16:36:43.148891: step 462, loss 0.554445, acc 0.734375\n",
      "2020-10-21T16:36:43.291810: step 463, loss 0.524624, acc 0.734375\n",
      "2020-10-21T16:36:43.446742: step 464, loss 0.58649, acc 0.703125\n",
      "2020-10-21T16:36:43.589639: step 465, loss 0.550233, acc 0.75\n",
      "2020-10-21T16:36:43.742572: step 466, loss 0.598572, acc 0.71875\n",
      "2020-10-21T16:36:43.888468: step 467, loss 0.615012, acc 0.703125\n",
      "2020-10-21T16:36:44.040402: step 468, loss 0.560069, acc 0.71875\n",
      "2020-10-21T16:36:44.182300: step 469, loss 0.595026, acc 0.71875\n",
      "2020-10-21T16:36:44.339210: step 470, loss 0.644252, acc 0.640625\n",
      "2020-10-21T16:36:44.485129: step 471, loss 0.53447, acc 0.765625\n",
      "2020-10-21T16:36:44.648035: step 472, loss 0.567122, acc 0.734375\n",
      "2020-10-21T16:36:44.791972: step 473, loss 0.587978, acc 0.671875\n",
      "2020-10-21T16:36:44.949882: step 474, loss 0.551648, acc 0.75\n",
      "2020-10-21T16:36:45.102775: step 475, loss 0.602455, acc 0.6875\n",
      "2020-10-21T16:36:45.260687: step 476, loss 0.660574, acc 0.640625\n",
      "2020-10-21T16:36:45.415594: step 477, loss 0.567421, acc 0.734375\n",
      "2020-10-21T16:36:45.569509: step 478, loss 0.640996, acc 0.65625\n",
      "2020-10-21T16:36:45.718422: step 479, loss 0.559589, acc 0.71875\n",
      "2020-10-21T16:36:45.870337: step 480, loss 0.646291, acc 0.65625\n",
      "2020-10-21T16:36:46.014253: step 481, loss 0.676828, acc 0.640625\n",
      "2020-10-21T16:36:46.170167: step 482, loss 0.56542, acc 0.734375\n",
      "2020-10-21T16:36:46.321098: step 483, loss 0.568853, acc 0.765625\n",
      "2020-10-21T16:36:46.469994: step 484, loss 0.712864, acc 0.53125\n",
      "2020-10-21T16:36:46.615929: step 485, loss 0.553642, acc 0.734375\n",
      "2020-10-21T16:36:46.770822: step 486, loss 0.642667, acc 0.65625\n",
      "2020-10-21T16:36:46.911741: step 487, loss 0.66409, acc 0.625\n",
      "2020-10-21T16:36:47.063653: step 488, loss 0.578612, acc 0.71875\n",
      "2020-10-21T16:36:47.196577: step 489, loss 0.54706, acc 0.75\n",
      "2020-10-21T16:36:47.344492: step 490, loss 0.567708, acc 0.734375\n",
      "2020-10-21T16:36:47.488411: step 491, loss 0.650559, acc 0.59375\n",
      "2020-10-21T16:36:47.640322: step 492, loss 0.609334, acc 0.671875\n",
      "2020-10-21T16:36:47.786240: step 493, loss 0.628507, acc 0.640625\n",
      "2020-10-21T16:36:47.942150: step 494, loss 0.577701, acc 0.71875\n",
      "2020-10-21T16:36:48.084069: step 495, loss 0.689875, acc 0.59375\n",
      "2020-10-21T16:36:48.233986: step 496, loss 0.569221, acc 0.734375\n",
      "2020-10-21T16:36:48.378901: step 497, loss 0.625911, acc 0.6875\n",
      "2020-10-21T16:36:48.535810: step 498, loss 0.495691, acc 0.796875\n"
     ]
    },
    {
     "name": "stdout",
     "output_type": "stream",
     "text": [
      "2020-10-21T16:36:48.736697: step 499, loss 0.557417, acc 0.765625\n",
      "2020-10-21T16:36:48.889609: step 500, loss 0.677931, acc 0.625\n",
      "\n",
      "Evaluation:\n",
      "2020-10-21T16:36:49.063511: step 500, loss 0.673432, acc 0.603189\n",
      "\n",
      "Saved model checkpoint to D:\\Tensorflow\\20201014cnn-text-classification\\runs\\1603269317\\checkpoints\\model-500\n",
      "\n",
      "2020-10-21T16:36:50.798707: step 501, loss 0.59738, acc 0.703125\n",
      "2020-10-21T16:36:50.941625: step 502, loss 0.65708, acc 0.609375\n",
      "2020-10-21T16:36:51.080545: step 503, loss 0.59053, acc 0.71875\n",
      "2020-10-21T16:36:51.233458: step 504, loss 0.581819, acc 0.671875\n",
      "2020-10-21T16:36:51.379375: step 505, loss 0.594005, acc 0.703125\n",
      "2020-10-21T16:36:51.527290: step 506, loss 0.672625, acc 0.640625\n",
      "2020-10-21T16:36:51.672207: step 507, loss 0.59209, acc 0.71875\n",
      "2020-10-21T16:36:51.824120: step 508, loss 0.561726, acc 0.75\n",
      "2020-10-21T16:36:51.969038: step 509, loss 0.577094, acc 0.71875\n",
      "2020-10-21T16:36:52.120953: step 510, loss 0.578627, acc 0.703125\n",
      "2020-10-21T16:36:52.265867: step 511, loss 0.580239, acc 0.703125\n",
      "2020-10-21T16:36:52.421779: step 512, loss 0.527369, acc 0.78125\n",
      "2020-10-21T16:36:52.568696: step 513, loss 0.598502, acc 0.6875\n",
      "2020-10-21T16:36:52.725607: step 514, loss 0.618742, acc 0.6875\n",
      "2020-10-21T16:36:52.868523: step 515, loss 0.625184, acc 0.65625\n",
      "2020-10-21T16:36:53.020436: step 516, loss 0.553951, acc 0.75\n",
      "2020-10-21T16:36:53.159358: step 517, loss 0.609771, acc 0.625\n",
      "2020-10-21T16:36:53.311271: step 518, loss 0.556356, acc 0.75\n",
      "2020-10-21T16:36:53.454189: step 519, loss 0.650004, acc 0.65625\n",
      "2020-10-21T16:36:53.609099: step 520, loss 0.531251, acc 0.765625\n",
      "2020-10-21T16:36:53.753018: step 521, loss 0.613818, acc 0.671875\n",
      "2020-10-21T16:36:53.903932: step 522, loss 0.544122, acc 0.78125\n",
      "2020-10-21T16:36:54.052847: step 523, loss 0.602923, acc 0.6875\n",
      "2020-10-21T16:36:54.204760: step 524, loss 0.555953, acc 0.71875\n",
      "2020-10-21T16:36:54.351676: step 525, loss 0.561287, acc 0.75\n",
      "2020-10-21T16:36:54.504589: step 526, loss 0.561502, acc 0.765625\n",
      "2020-10-21T16:36:54.644510: step 527, loss 0.633985, acc 0.65625\n",
      "2020-10-21T16:36:54.793422: step 528, loss 0.652915, acc 0.65625\n",
      "2020-10-21T16:36:54.938339: step 529, loss 0.546499, acc 0.75\n",
      "2020-10-21T16:36:55.079258: step 530, loss 0.547352, acc 0.75\n",
      "2020-10-21T16:36:55.211184: step 531, loss 0.678094, acc 0.609375\n",
      "2020-10-21T16:36:55.371093: step 532, loss 0.624699, acc 0.6875\n",
      "2020-10-21T16:36:55.526023: step 533, loss 0.549738, acc 0.734375\n",
      "2020-10-21T16:36:55.674937: step 534, loss 0.518423, acc 0.796875\n",
      "2020-10-21T16:36:55.836829: step 535, loss 0.558089, acc 0.734375\n",
      "2020-10-21T16:36:55.997734: step 536, loss 0.597231, acc 0.703125\n",
      "2020-10-21T16:36:56.161640: step 537, loss 0.570644, acc 0.71875\n",
      "2020-10-21T16:36:56.325547: step 538, loss 0.586774, acc 0.671875\n",
      "2020-10-21T16:36:56.479458: step 539, loss 0.632266, acc 0.6875\n",
      "2020-10-21T16:36:56.633370: step 540, loss 0.542029, acc 0.78125\n",
      "2020-10-21T16:36:56.814267: step 541, loss 0.512575, acc 0.8125\n",
      "2020-10-21T16:36:56.972175: step 542, loss 0.568774, acc 0.71875\n",
      "2020-10-21T16:36:57.112096: step 543, loss 0.570693, acc 0.734375\n",
      "2020-10-21T16:36:57.247018: step 544, loss 0.526101, acc 0.78125\n",
      "2020-10-21T16:36:57.402930: step 545, loss 0.58918, acc 0.703125\n",
      "2020-10-21T16:36:57.554844: step 546, loss 0.548409, acc 0.734375\n",
      "2020-10-21T16:36:57.708755: step 547, loss 0.623154, acc 0.671875\n",
      "2020-10-21T16:36:57.853674: step 548, loss 0.543444, acc 0.78125\n",
      "2020-10-21T16:36:58.014580: step 549, loss 0.591876, acc 0.671875\n",
      "2020-10-21T16:36:58.178487: step 550, loss 0.594253, acc 0.703125\n",
      "2020-10-21T16:36:58.353388: step 551, loss 0.638641, acc 0.609375\n",
      "2020-10-21T16:36:58.508298: step 552, loss 0.551635, acc 0.78125\n",
      "2020-10-21T16:36:58.681200: step 553, loss 0.559153, acc 0.734375\n",
      "2020-10-21T16:36:58.879085: step 554, loss 0.608315, acc 0.6875\n",
      "2020-10-21T16:36:59.030999: step 555, loss 0.557606, acc 0.765625\n",
      "2020-10-21T16:36:59.180914: step 556, loss 0.636053, acc 0.640625\n",
      "2020-10-21T16:36:59.330826: step 557, loss 0.677005, acc 0.609375\n",
      "2020-10-21T16:36:59.490737: step 558, loss 0.541786, acc 0.765625\n",
      "2020-10-21T16:36:59.637652: step 559, loss 0.640177, acc 0.65625\n",
      "2020-10-21T16:36:59.794564: step 560, loss 0.580934, acc 0.734375\n",
      "2020-10-21T16:37:00.037423: step 561, loss 0.618829, acc 0.6875\n",
      "2020-10-21T16:37:00.227316: step 562, loss 0.557213, acc 0.765625\n",
      "2020-10-21T16:37:00.409211: step 563, loss 0.574984, acc 0.6875\n",
      "2020-10-21T16:37:00.590108: step 564, loss 0.616691, acc 0.6875\n",
      "2020-10-21T16:37:00.759010: step 565, loss 0.551842, acc 0.765625\n",
      "2020-10-21T16:37:00.925914: step 566, loss 0.518692, acc 0.78125\n",
      "2020-10-21T16:37:01.079826: step 567, loss 0.567858, acc 0.75\n",
      "2020-10-21T16:37:01.232739: step 568, loss 0.602909, acc 0.65625\n",
      "2020-10-21T16:37:01.424629: step 569, loss 0.534946, acc 0.78125\n",
      "2020-10-21T16:37:01.581540: step 570, loss 0.551852, acc 0.734375\n",
      "2020-10-21T16:37:01.770433: step 571, loss 0.570007, acc 0.6875\n",
      "2020-10-21T16:37:01.929340: step 572, loss 0.595904, acc 0.6875\n",
      "2020-10-21T16:37:02.093249: step 573, loss 0.57016, acc 0.703125\n",
      "2020-10-21T16:37:02.270146: step 574, loss 0.558031, acc 0.734375\n",
      "2020-10-21T16:37:02.439055: step 575, loss 0.551606, acc 0.703125\n",
      "2020-10-21T16:37:02.606953: step 576, loss 0.557367, acc 0.75\n",
      "2020-10-21T16:37:02.755868: step 577, loss 0.572546, acc 0.75\n",
      "2020-10-21T16:37:02.910779: step 578, loss 0.445653, acc 0.890625\n",
      "2020-10-21T16:37:03.060693: step 579, loss 0.541171, acc 0.734375\n",
      "2020-10-21T16:37:03.205611: step 580, loss 0.532687, acc 0.75\n",
      "2020-10-21T16:37:03.354530: step 581, loss 0.618476, acc 0.6875\n",
      "2020-10-21T16:37:03.517434: step 582, loss 0.560773, acc 0.734375\n",
      "2020-10-21T16:37:03.668346: step 583, loss 0.623708, acc 0.65625\n",
      "2020-10-21T16:37:03.871232: step 584, loss 0.615673, acc 0.671875\n",
      "2020-10-21T16:37:04.029141: step 585, loss 0.600882, acc 0.671875\n",
      "2020-10-21T16:37:04.202049: step 586, loss 0.548753, acc 0.765625\n",
      "2020-10-21T16:37:04.371944: step 587, loss 0.599312, acc 0.65625\n",
      "2020-10-21T16:37:04.537850: step 588, loss 0.568262, acc 0.734375\n",
      "2020-10-21T16:37:04.715746: step 589, loss 0.638396, acc 0.640625\n",
      "2020-10-21T16:37:04.875656: step 590, loss 0.544939, acc 0.734375\n",
      "2020-10-21T16:37:05.047557: step 591, loss 0.57253, acc 0.734375\n",
      "2020-10-21T16:37:05.211463: step 592, loss 0.54811, acc 0.71875\n",
      "2020-10-21T16:37:05.366374: step 593, loss 0.545719, acc 0.765625\n",
      "2020-10-21T16:37:05.518290: step 594, loss 0.520528, acc 0.8125\n",
      "2020-10-21T16:37:05.673219: step 595, loss 0.572036, acc 0.71875\n",
      "2020-10-21T16:37:05.826114: step 596, loss 0.625557, acc 0.6875\n",
      "2020-10-21T16:37:05.975027: step 597, loss 0.596698, acc 0.671875\n",
      "2020-10-21T16:37:06.137934: step 598, loss 0.59494, acc 0.703125\n",
      "2020-10-21T16:37:06.293864: step 599, loss 0.567308, acc 0.75\n",
      "2020-10-21T16:37:06.447757: step 600, loss 0.608877, acc 0.666667\n",
      "\n",
      "Evaluation:\n",
      "2020-10-21T16:37:06.618659: step 600, loss 0.649059, acc 0.630394\n",
      "\n",
      "WARNING:tensorflow:From D:\\Anaconda3\\lib\\site-packages\\tensorflow\\python\\training\\saver.py:960: remove_checkpoint (from tensorflow.python.training.checkpoint_management) is deprecated and will be removed in a future version.\n",
      "Instructions for updating:\n",
      "Use standard file APIs to delete files with this prefix.\n"
     ]
    },
    {
     "name": "stderr",
     "output_type": "stream",
     "text": [
      "W1021 16:37:06.778567  6356 deprecation.py:323] From D:\\Anaconda3\\lib\\site-packages\\tensorflow\\python\\training\\saver.py:960: remove_checkpoint (from tensorflow.python.training.checkpoint_management) is deprecated and will be removed in a future version.\n",
      "Instructions for updating:\n",
      "Use standard file APIs to delete files with this prefix.\n"
     ]
    },
    {
     "name": "stdout",
     "output_type": "stream",
     "text": [
      "Saved model checkpoint to D:\\Tensorflow\\20201014cnn-text-classification\\runs\\1603269317\\checkpoints\\model-600\n",
      "\n",
      "2020-10-21T16:37:07.825987: step 601, loss 0.543167, acc 0.75\n",
      "2020-10-21T16:37:07.974882: step 602, loss 0.567821, acc 0.75\n",
      "2020-10-21T16:37:08.115802: step 603, loss 0.603045, acc 0.6875\n",
      "2020-10-21T16:37:08.263717: step 604, loss 0.542852, acc 0.765625\n",
      "2020-10-21T16:37:08.406636: step 605, loss 0.554855, acc 0.765625\n",
      "2020-10-21T16:37:08.558569: step 606, loss 0.575347, acc 0.71875\n",
      "2020-10-21T16:37:08.702468: step 607, loss 0.485029, acc 0.8125\n",
      "2020-10-21T16:37:08.868374: step 608, loss 0.57756, acc 0.71875\n",
      "2020-10-21T16:37:09.005294: step 609, loss 0.582805, acc 0.6875\n",
      "2020-10-21T16:37:09.151211: step 610, loss 0.53196, acc 0.75\n",
      "2020-10-21T16:37:09.289151: step 611, loss 0.588312, acc 0.703125\n",
      "2020-10-21T16:37:09.439048: step 612, loss 0.484267, acc 0.8125\n",
      "2020-10-21T16:37:09.590958: step 613, loss 0.51753, acc 0.78125\n",
      "2020-10-21T16:37:09.752866: step 614, loss 0.519349, acc 0.796875\n",
      "2020-10-21T16:37:09.901783: step 615, loss 0.60264, acc 0.703125\n",
      "2020-10-21T16:37:10.056693: step 616, loss 0.565365, acc 0.734375\n",
      "2020-10-21T16:37:10.201613: step 617, loss 0.502875, acc 0.8125\n",
      "2020-10-21T16:37:10.361518: step 618, loss 0.61701, acc 0.703125\n",
      "2020-10-21T16:37:10.510432: step 619, loss 0.601468, acc 0.671875\n",
      "2020-10-21T16:37:10.671341: step 620, loss 0.584037, acc 0.71875\n",
      "2020-10-21T16:37:10.821254: step 621, loss 0.522357, acc 0.765625\n",
      "2020-10-21T16:37:10.972168: step 622, loss 0.520065, acc 0.765625\n",
      "2020-10-21T16:37:11.111088: step 623, loss 0.499615, acc 0.796875\n",
      "2020-10-21T16:37:11.257005: step 624, loss 0.559031, acc 0.703125\n",
      "2020-10-21T16:37:11.411916: step 625, loss 0.546149, acc 0.75\n",
      "2020-10-21T16:37:11.567829: step 626, loss 0.498202, acc 0.8125\n",
      "2020-10-21T16:37:11.717743: step 627, loss 0.500573, acc 0.796875\n",
      "2020-10-21T16:37:11.877650: step 628, loss 0.510044, acc 0.796875\n",
      "2020-10-21T16:37:12.024568: step 629, loss 0.558222, acc 0.734375\n",
      "2020-10-21T16:37:12.172482: step 630, loss 0.608194, acc 0.671875\n",
      "2020-10-21T16:37:12.342384: step 631, loss 0.512299, acc 0.765625\n",
      "2020-10-21T16:37:12.512287: step 632, loss 0.573857, acc 0.734375\n",
      "2020-10-21T16:37:12.686191: step 633, loss 0.558315, acc 0.734375\n",
      "2020-10-21T16:37:12.873081: step 634, loss 0.534854, acc 0.75\n",
      "2020-10-21T16:37:13.028991: step 635, loss 0.586169, acc 0.71875\n",
      "2020-10-21T16:37:13.190899: step 636, loss 0.528096, acc 0.765625\n",
      "2020-10-21T16:37:13.341813: step 637, loss 0.568932, acc 0.71875\n",
      "2020-10-21T16:37:13.509717: step 638, loss 0.402927, acc 0.921875\n",
      "2020-10-21T16:37:13.673625: step 639, loss 0.556945, acc 0.734375\n",
      "2020-10-21T16:37:13.852528: step 640, loss 0.533661, acc 0.765625\n",
      "2020-10-21T16:37:14.069397: step 641, loss 0.517454, acc 0.765625\n",
      "2020-10-21T16:37:14.238301: step 642, loss 0.551807, acc 0.75\n",
      "2020-10-21T16:37:14.430191: step 643, loss 0.629752, acc 0.65625\n",
      "2020-10-21T16:37:14.609088: step 644, loss 0.456881, acc 0.828125\n",
      "2020-10-21T16:37:14.805977: step 645, loss 0.521805, acc 0.78125\n",
      "2020-10-21T16:37:15.008860: step 646, loss 0.529461, acc 0.765625\n",
      "2020-10-21T16:37:15.186759: step 647, loss 0.573423, acc 0.703125\n",
      "2020-10-21T16:37:15.358659: step 648, loss 0.578353, acc 0.6875\n",
      "2020-10-21T16:37:15.536559: step 649, loss 0.611513, acc 0.671875\n",
      "2020-10-21T16:37:15.746438: step 650, loss 0.538466, acc 0.78125\n",
      "2020-10-21T16:37:15.918341: step 651, loss 0.584927, acc 0.71875\n",
      "2020-10-21T16:37:16.094240: step 652, loss 0.531235, acc 0.78125\n",
      "2020-10-21T16:37:16.277134: step 653, loss 0.538095, acc 0.765625\n",
      "2020-10-21T16:37:16.458032: step 654, loss 0.507275, acc 0.796875\n"
     ]
    },
    {
     "ename": "KeyboardInterrupt",
     "evalue": "",
     "output_type": "error",
     "traceback": [
      "\u001b[1;31m---------------------------------------------------------------------------\u001b[0m",
      "\u001b[1;31mKeyboardInterrupt\u001b[0m                         Traceback (most recent call last)",
      "\u001b[1;32mD:\\Tensorflow\\20201014cnn-text-classification\\train.py\u001b[0m in \u001b[0;36m<module>\u001b[1;34m\u001b[0m\n\u001b[0;32m    254\u001b[0m \u001b[1;33m\u001b[0m\u001b[0m\n\u001b[0;32m    255\u001b[0m \u001b[1;32mif\u001b[0m \u001b[0m__name__\u001b[0m \u001b[1;33m==\u001b[0m \u001b[1;34m'__main__'\u001b[0m\u001b[1;33m:\u001b[0m\u001b[1;33m\u001b[0m\u001b[1;33m\u001b[0m\u001b[0m\n\u001b[1;32m--> 256\u001b[1;33m     \u001b[0mtf\u001b[0m\u001b[1;33m.\u001b[0m\u001b[0mapp\u001b[0m\u001b[1;33m.\u001b[0m\u001b[0mrun\u001b[0m\u001b[1;33m(\u001b[0m\u001b[1;33m)\u001b[0m\u001b[1;33m\u001b[0m\u001b[1;33m\u001b[0m\u001b[0m\n\u001b[0m",
      "\u001b[1;32mD:\\Anaconda3\\lib\\site-packages\\tensorflow\\python\\platform\\app.py\u001b[0m in \u001b[0;36mrun\u001b[1;34m(main, argv)\u001b[0m\n\u001b[0;32m     38\u001b[0m   \u001b[0mmain\u001b[0m \u001b[1;33m=\u001b[0m \u001b[0mmain\u001b[0m \u001b[1;32mor\u001b[0m \u001b[0m_sys\u001b[0m\u001b[1;33m.\u001b[0m\u001b[0mmodules\u001b[0m\u001b[1;33m[\u001b[0m\u001b[1;34m'__main__'\u001b[0m\u001b[1;33m]\u001b[0m\u001b[1;33m.\u001b[0m\u001b[0mmain\u001b[0m\u001b[1;33m\u001b[0m\u001b[1;33m\u001b[0m\u001b[0m\n\u001b[0;32m     39\u001b[0m \u001b[1;33m\u001b[0m\u001b[0m\n\u001b[1;32m---> 40\u001b[1;33m   \u001b[0m_run\u001b[0m\u001b[1;33m(\u001b[0m\u001b[0mmain\u001b[0m\u001b[1;33m=\u001b[0m\u001b[0mmain\u001b[0m\u001b[1;33m,\u001b[0m \u001b[0margv\u001b[0m\u001b[1;33m=\u001b[0m\u001b[0margv\u001b[0m\u001b[1;33m,\u001b[0m \u001b[0mflags_parser\u001b[0m\u001b[1;33m=\u001b[0m\u001b[0m_parse_flags_tolerate_undef\u001b[0m\u001b[1;33m)\u001b[0m\u001b[1;33m\u001b[0m\u001b[1;33m\u001b[0m\u001b[0m\n\u001b[0m",
      "\u001b[1;32mD:\\Anaconda3\\lib\\site-packages\\absl\\app.py\u001b[0m in \u001b[0;36mrun\u001b[1;34m(main, argv, flags_parser)\u001b[0m\n\u001b[0;32m    298\u001b[0m       \u001b[0mcallback\u001b[0m\u001b[1;33m(\u001b[0m\u001b[1;33m)\u001b[0m\u001b[1;33m\u001b[0m\u001b[1;33m\u001b[0m\u001b[0m\n\u001b[0;32m    299\u001b[0m     \u001b[1;32mtry\u001b[0m\u001b[1;33m:\u001b[0m\u001b[1;33m\u001b[0m\u001b[1;33m\u001b[0m\u001b[0m\n\u001b[1;32m--> 300\u001b[1;33m       \u001b[0m_run_main\u001b[0m\u001b[1;33m(\u001b[0m\u001b[0mmain\u001b[0m\u001b[1;33m,\u001b[0m \u001b[0margs\u001b[0m\u001b[1;33m)\u001b[0m\u001b[1;33m\u001b[0m\u001b[1;33m\u001b[0m\u001b[0m\n\u001b[0m\u001b[0;32m    301\u001b[0m     \u001b[1;32mexcept\u001b[0m \u001b[0mUsageError\u001b[0m \u001b[1;32mas\u001b[0m \u001b[0merror\u001b[0m\u001b[1;33m:\u001b[0m\u001b[1;33m\u001b[0m\u001b[1;33m\u001b[0m\u001b[0m\n\u001b[0;32m    302\u001b[0m       \u001b[0musage\u001b[0m\u001b[1;33m(\u001b[0m\u001b[0mshorthelp\u001b[0m\u001b[1;33m=\u001b[0m\u001b[1;32mTrue\u001b[0m\u001b[1;33m,\u001b[0m \u001b[0mdetailed_error\u001b[0m\u001b[1;33m=\u001b[0m\u001b[0merror\u001b[0m\u001b[1;33m,\u001b[0m \u001b[0mexitcode\u001b[0m\u001b[1;33m=\u001b[0m\u001b[0merror\u001b[0m\u001b[1;33m.\u001b[0m\u001b[0mexitcode\u001b[0m\u001b[1;33m)\u001b[0m\u001b[1;33m\u001b[0m\u001b[1;33m\u001b[0m\u001b[0m\n",
      "\u001b[1;32mD:\\Anaconda3\\lib\\site-packages\\absl\\app.py\u001b[0m in \u001b[0;36m_run_main\u001b[1;34m(main, argv)\u001b[0m\n\u001b[0;32m    249\u001b[0m     \u001b[0msys\u001b[0m\u001b[1;33m.\u001b[0m\u001b[0mexit\u001b[0m\u001b[1;33m(\u001b[0m\u001b[0mretval\u001b[0m\u001b[1;33m)\u001b[0m\u001b[1;33m\u001b[0m\u001b[1;33m\u001b[0m\u001b[0m\n\u001b[0;32m    250\u001b[0m   \u001b[1;32melse\u001b[0m\u001b[1;33m:\u001b[0m\u001b[1;33m\u001b[0m\u001b[1;33m\u001b[0m\u001b[0m\n\u001b[1;32m--> 251\u001b[1;33m     \u001b[0msys\u001b[0m\u001b[1;33m.\u001b[0m\u001b[0mexit\u001b[0m\u001b[1;33m(\u001b[0m\u001b[0mmain\u001b[0m\u001b[1;33m(\u001b[0m\u001b[0margv\u001b[0m\u001b[1;33m)\u001b[0m\u001b[1;33m)\u001b[0m\u001b[1;33m\u001b[0m\u001b[1;33m\u001b[0m\u001b[0m\n\u001b[0m\u001b[0;32m    252\u001b[0m \u001b[1;33m\u001b[0m\u001b[0m\n\u001b[0;32m    253\u001b[0m \u001b[1;33m\u001b[0m\u001b[0m\n",
      "\u001b[1;32mD:\\Tensorflow\\20201014cnn-text-classification\\train.py\u001b[0m in \u001b[0;36mmain\u001b[1;34m(argv)\u001b[0m\n\u001b[0;32m    251\u001b[0m \u001b[1;32mdef\u001b[0m \u001b[0mmain\u001b[0m\u001b[1;33m(\u001b[0m\u001b[0margv\u001b[0m\u001b[1;33m=\u001b[0m\u001b[1;32mNone\u001b[0m\u001b[1;33m)\u001b[0m\u001b[1;33m:\u001b[0m\u001b[1;33m\u001b[0m\u001b[1;33m\u001b[0m\u001b[0m\n\u001b[0;32m    252\u001b[0m     \u001b[0mx_train\u001b[0m\u001b[1;33m,\u001b[0m \u001b[0my_train\u001b[0m\u001b[1;33m,\u001b[0m \u001b[0mvocab_processor\u001b[0m\u001b[1;33m,\u001b[0m \u001b[0mx_dev\u001b[0m\u001b[1;33m,\u001b[0m \u001b[0my_dev\u001b[0m \u001b[1;33m=\u001b[0m \u001b[0mpreprocess\u001b[0m\u001b[1;33m(\u001b[0m\u001b[1;33m)\u001b[0m\u001b[1;33m\u001b[0m\u001b[1;33m\u001b[0m\u001b[0m\n\u001b[1;32m--> 253\u001b[1;33m     \u001b[0mtrain\u001b[0m\u001b[1;33m(\u001b[0m\u001b[0mx_train\u001b[0m\u001b[1;33m,\u001b[0m \u001b[0my_train\u001b[0m\u001b[1;33m,\u001b[0m \u001b[0mvocab_processor\u001b[0m\u001b[1;33m,\u001b[0m \u001b[0mx_dev\u001b[0m\u001b[1;33m,\u001b[0m \u001b[0my_dev\u001b[0m\u001b[1;33m)\u001b[0m\u001b[1;33m\u001b[0m\u001b[1;33m\u001b[0m\u001b[0m\n\u001b[0m\u001b[0;32m    254\u001b[0m \u001b[1;33m\u001b[0m\u001b[0m\n\u001b[0;32m    255\u001b[0m \u001b[1;32mif\u001b[0m \u001b[0m__name__\u001b[0m \u001b[1;33m==\u001b[0m \u001b[1;34m'__main__'\u001b[0m\u001b[1;33m:\u001b[0m\u001b[1;33m\u001b[0m\u001b[1;33m\u001b[0m\u001b[0m\n",
      "\u001b[1;32mD:\\Tensorflow\\20201014cnn-text-classification\\train.py\u001b[0m in \u001b[0;36mtrain\u001b[1;34m(x_train, y_train, vocab_processor, x_dev, y_dev)\u001b[0m\n\u001b[0;32m    238\u001b[0m             \u001b[1;32mfor\u001b[0m \u001b[0mbatch\u001b[0m \u001b[1;32min\u001b[0m \u001b[0mbatches\u001b[0m\u001b[1;33m:\u001b[0m\u001b[1;33m\u001b[0m\u001b[1;33m\u001b[0m\u001b[0m\n\u001b[0;32m    239\u001b[0m                 \u001b[0mx_batch\u001b[0m\u001b[1;33m,\u001b[0m \u001b[0my_batch\u001b[0m \u001b[1;33m=\u001b[0m \u001b[0mzip\u001b[0m\u001b[1;33m(\u001b[0m\u001b[1;33m*\u001b[0m\u001b[0mbatch\u001b[0m\u001b[1;33m)\u001b[0m \u001b[1;31m#将配对的样本，分离出来data和label\u001b[0m\u001b[1;33m\u001b[0m\u001b[1;33m\u001b[0m\u001b[0m\n\u001b[1;32m--> 240\u001b[1;33m                 \u001b[0mtrain_step\u001b[0m\u001b[1;33m(\u001b[0m\u001b[0mx_batch\u001b[0m\u001b[1;33m,\u001b[0m \u001b[0my_batch\u001b[0m\u001b[1;33m)\u001b[0m \u001b[1;31m#训练，输入batch样本，更新模型\u001b[0m\u001b[1;33m\u001b[0m\u001b[1;33m\u001b[0m\u001b[0m\n\u001b[0m\u001b[0;32m    241\u001b[0m                 \u001b[0mcurrent_step\u001b[0m \u001b[1;33m=\u001b[0m \u001b[0mtf\u001b[0m\u001b[1;33m.\u001b[0m\u001b[0mtrain\u001b[0m\u001b[1;33m.\u001b[0m\u001b[0mglobal_step\u001b[0m\u001b[1;33m(\u001b[0m\u001b[0msess\u001b[0m\u001b[1;33m,\u001b[0m \u001b[0mglobal_step\u001b[0m\u001b[1;33m)\u001b[0m\u001b[1;33m\u001b[0m\u001b[1;33m\u001b[0m\u001b[0m\n\u001b[0;32m    242\u001b[0m                 \u001b[1;31m#每隔多少步的训练后，评估一次\u001b[0m\u001b[1;33m\u001b[0m\u001b[1;33m\u001b[0m\u001b[1;33m\u001b[0m\u001b[0m\n",
      "\u001b[1;32mD:\\Tensorflow\\20201014cnn-text-classification\\train.py\u001b[0m in \u001b[0;36mtrain_step\u001b[1;34m(x_batch, y_batch)\u001b[0m\n\u001b[0;32m    204\u001b[0m                 _, step, summaries, loss, accuracy = sess.run(\n\u001b[0;32m    205\u001b[0m                     \u001b[1;33m[\u001b[0m\u001b[0mtrain_op\u001b[0m\u001b[1;33m,\u001b[0m \u001b[0mglobal_step\u001b[0m\u001b[1;33m,\u001b[0m \u001b[0mtrain_summary_op\u001b[0m\u001b[1;33m,\u001b[0m \u001b[0mcnn\u001b[0m\u001b[1;33m.\u001b[0m\u001b[0mloss\u001b[0m\u001b[1;33m,\u001b[0m \u001b[0mcnn\u001b[0m\u001b[1;33m.\u001b[0m\u001b[0maccuracy\u001b[0m\u001b[1;33m]\u001b[0m\u001b[1;33m,\u001b[0m\u001b[1;33m\u001b[0m\u001b[1;33m\u001b[0m\u001b[0m\n\u001b[1;32m--> 206\u001b[1;33m                     feed_dict)\n\u001b[0m\u001b[0;32m    207\u001b[0m                 \u001b[1;31m#梯度更新（更新模型），步骤加一，存储数据，计算一个batch的损失，计算一个batch的准确率\u001b[0m\u001b[1;33m\u001b[0m\u001b[1;33m\u001b[0m\u001b[1;33m\u001b[0m\u001b[0m\n\u001b[0;32m    208\u001b[0m                 \u001b[1;31m#获取当前的时间\u001b[0m\u001b[1;33m\u001b[0m\u001b[1;33m\u001b[0m\u001b[1;33m\u001b[0m\u001b[0m\n",
      "\u001b[1;32mD:\\Anaconda3\\lib\\site-packages\\tensorflow\\python\\client\\session.py\u001b[0m in \u001b[0;36mrun\u001b[1;34m(self, fetches, feed_dict, options, run_metadata)\u001b[0m\n\u001b[0;32m    948\u001b[0m     \u001b[1;32mtry\u001b[0m\u001b[1;33m:\u001b[0m\u001b[1;33m\u001b[0m\u001b[1;33m\u001b[0m\u001b[0m\n\u001b[0;32m    949\u001b[0m       result = self._run(None, fetches, feed_dict, options_ptr,\n\u001b[1;32m--> 950\u001b[1;33m                          run_metadata_ptr)\n\u001b[0m\u001b[0;32m    951\u001b[0m       \u001b[1;32mif\u001b[0m \u001b[0mrun_metadata\u001b[0m\u001b[1;33m:\u001b[0m\u001b[1;33m\u001b[0m\u001b[1;33m\u001b[0m\u001b[0m\n\u001b[0;32m    952\u001b[0m         \u001b[0mproto_data\u001b[0m \u001b[1;33m=\u001b[0m \u001b[0mtf_session\u001b[0m\u001b[1;33m.\u001b[0m\u001b[0mTF_GetBuffer\u001b[0m\u001b[1;33m(\u001b[0m\u001b[0mrun_metadata_ptr\u001b[0m\u001b[1;33m)\u001b[0m\u001b[1;33m\u001b[0m\u001b[1;33m\u001b[0m\u001b[0m\n",
      "\u001b[1;32mD:\\Anaconda3\\lib\\site-packages\\tensorflow\\python\\client\\session.py\u001b[0m in \u001b[0;36m_run\u001b[1;34m(self, handle, fetches, feed_dict, options, run_metadata)\u001b[0m\n\u001b[0;32m   1171\u001b[0m     \u001b[1;32mif\u001b[0m \u001b[0mfinal_fetches\u001b[0m \u001b[1;32mor\u001b[0m \u001b[0mfinal_targets\u001b[0m \u001b[1;32mor\u001b[0m \u001b[1;33m(\u001b[0m\u001b[0mhandle\u001b[0m \u001b[1;32mand\u001b[0m \u001b[0mfeed_dict_tensor\u001b[0m\u001b[1;33m)\u001b[0m\u001b[1;33m:\u001b[0m\u001b[1;33m\u001b[0m\u001b[1;33m\u001b[0m\u001b[0m\n\u001b[0;32m   1172\u001b[0m       results = self._do_run(handle, final_targets, final_fetches,\n\u001b[1;32m-> 1173\u001b[1;33m                              feed_dict_tensor, options, run_metadata)\n\u001b[0m\u001b[0;32m   1174\u001b[0m     \u001b[1;32melse\u001b[0m\u001b[1;33m:\u001b[0m\u001b[1;33m\u001b[0m\u001b[1;33m\u001b[0m\u001b[0m\n\u001b[0;32m   1175\u001b[0m       \u001b[0mresults\u001b[0m \u001b[1;33m=\u001b[0m \u001b[1;33m[\u001b[0m\u001b[1;33m]\u001b[0m\u001b[1;33m\u001b[0m\u001b[1;33m\u001b[0m\u001b[0m\n",
      "\u001b[1;32mD:\\Anaconda3\\lib\\site-packages\\tensorflow\\python\\client\\session.py\u001b[0m in \u001b[0;36m_do_run\u001b[1;34m(self, handle, target_list, fetch_list, feed_dict, options, run_metadata)\u001b[0m\n\u001b[0;32m   1348\u001b[0m     \u001b[1;32mif\u001b[0m \u001b[0mhandle\u001b[0m \u001b[1;32mis\u001b[0m \u001b[1;32mNone\u001b[0m\u001b[1;33m:\u001b[0m\u001b[1;33m\u001b[0m\u001b[1;33m\u001b[0m\u001b[0m\n\u001b[0;32m   1349\u001b[0m       return self._do_call(_run_fn, feeds, fetches, targets, options,\n\u001b[1;32m-> 1350\u001b[1;33m                            run_metadata)\n\u001b[0m\u001b[0;32m   1351\u001b[0m     \u001b[1;32melse\u001b[0m\u001b[1;33m:\u001b[0m\u001b[1;33m\u001b[0m\u001b[1;33m\u001b[0m\u001b[0m\n\u001b[0;32m   1352\u001b[0m       \u001b[1;32mreturn\u001b[0m \u001b[0mself\u001b[0m\u001b[1;33m.\u001b[0m\u001b[0m_do_call\u001b[0m\u001b[1;33m(\u001b[0m\u001b[0m_prun_fn\u001b[0m\u001b[1;33m,\u001b[0m \u001b[0mhandle\u001b[0m\u001b[1;33m,\u001b[0m \u001b[0mfeeds\u001b[0m\u001b[1;33m,\u001b[0m \u001b[0mfetches\u001b[0m\u001b[1;33m)\u001b[0m\u001b[1;33m\u001b[0m\u001b[1;33m\u001b[0m\u001b[0m\n",
      "\u001b[1;32mD:\\Anaconda3\\lib\\site-packages\\tensorflow\\python\\client\\session.py\u001b[0m in \u001b[0;36m_do_call\u001b[1;34m(self, fn, *args)\u001b[0m\n\u001b[0;32m   1354\u001b[0m   \u001b[1;32mdef\u001b[0m \u001b[0m_do_call\u001b[0m\u001b[1;33m(\u001b[0m\u001b[0mself\u001b[0m\u001b[1;33m,\u001b[0m \u001b[0mfn\u001b[0m\u001b[1;33m,\u001b[0m \u001b[1;33m*\u001b[0m\u001b[0margs\u001b[0m\u001b[1;33m)\u001b[0m\u001b[1;33m:\u001b[0m\u001b[1;33m\u001b[0m\u001b[1;33m\u001b[0m\u001b[0m\n\u001b[0;32m   1355\u001b[0m     \u001b[1;32mtry\u001b[0m\u001b[1;33m:\u001b[0m\u001b[1;33m\u001b[0m\u001b[1;33m\u001b[0m\u001b[0m\n\u001b[1;32m-> 1356\u001b[1;33m       \u001b[1;32mreturn\u001b[0m \u001b[0mfn\u001b[0m\u001b[1;33m(\u001b[0m\u001b[1;33m*\u001b[0m\u001b[0margs\u001b[0m\u001b[1;33m)\u001b[0m\u001b[1;33m\u001b[0m\u001b[1;33m\u001b[0m\u001b[0m\n\u001b[0m\u001b[0;32m   1357\u001b[0m     \u001b[1;32mexcept\u001b[0m \u001b[0merrors\u001b[0m\u001b[1;33m.\u001b[0m\u001b[0mOpError\u001b[0m \u001b[1;32mas\u001b[0m \u001b[0me\u001b[0m\u001b[1;33m:\u001b[0m\u001b[1;33m\u001b[0m\u001b[1;33m\u001b[0m\u001b[0m\n\u001b[0;32m   1358\u001b[0m       \u001b[0mmessage\u001b[0m \u001b[1;33m=\u001b[0m \u001b[0mcompat\u001b[0m\u001b[1;33m.\u001b[0m\u001b[0mas_text\u001b[0m\u001b[1;33m(\u001b[0m\u001b[0me\u001b[0m\u001b[1;33m.\u001b[0m\u001b[0mmessage\u001b[0m\u001b[1;33m)\u001b[0m\u001b[1;33m\u001b[0m\u001b[1;33m\u001b[0m\u001b[0m\n",
      "\u001b[1;32mD:\\Anaconda3\\lib\\site-packages\\tensorflow\\python\\client\\session.py\u001b[0m in \u001b[0;36m_run_fn\u001b[1;34m(feed_dict, fetch_list, target_list, options, run_metadata)\u001b[0m\n\u001b[0;32m   1339\u001b[0m       \u001b[0mself\u001b[0m\u001b[1;33m.\u001b[0m\u001b[0m_extend_graph\u001b[0m\u001b[1;33m(\u001b[0m\u001b[1;33m)\u001b[0m\u001b[1;33m\u001b[0m\u001b[1;33m\u001b[0m\u001b[0m\n\u001b[0;32m   1340\u001b[0m       return self._call_tf_sessionrun(\n\u001b[1;32m-> 1341\u001b[1;33m           options, feed_dict, fetch_list, target_list, run_metadata)\n\u001b[0m\u001b[0;32m   1342\u001b[0m \u001b[1;33m\u001b[0m\u001b[0m\n\u001b[0;32m   1343\u001b[0m     \u001b[1;32mdef\u001b[0m \u001b[0m_prun_fn\u001b[0m\u001b[1;33m(\u001b[0m\u001b[0mhandle\u001b[0m\u001b[1;33m,\u001b[0m \u001b[0mfeed_dict\u001b[0m\u001b[1;33m,\u001b[0m \u001b[0mfetch_list\u001b[0m\u001b[1;33m)\u001b[0m\u001b[1;33m:\u001b[0m\u001b[1;33m\u001b[0m\u001b[1;33m\u001b[0m\u001b[0m\n",
      "\u001b[1;32mD:\\Anaconda3\\lib\\site-packages\\tensorflow\\python\\client\\session.py\u001b[0m in \u001b[0;36m_call_tf_sessionrun\u001b[1;34m(self, options, feed_dict, fetch_list, target_list, run_metadata)\u001b[0m\n\u001b[0;32m   1427\u001b[0m     return tf_session.TF_SessionRun_wrapper(\n\u001b[0;32m   1428\u001b[0m         \u001b[0mself\u001b[0m\u001b[1;33m.\u001b[0m\u001b[0m_session\u001b[0m\u001b[1;33m,\u001b[0m \u001b[0moptions\u001b[0m\u001b[1;33m,\u001b[0m \u001b[0mfeed_dict\u001b[0m\u001b[1;33m,\u001b[0m \u001b[0mfetch_list\u001b[0m\u001b[1;33m,\u001b[0m \u001b[0mtarget_list\u001b[0m\u001b[1;33m,\u001b[0m\u001b[1;33m\u001b[0m\u001b[1;33m\u001b[0m\u001b[0m\n\u001b[1;32m-> 1429\u001b[1;33m         run_metadata)\n\u001b[0m\u001b[0;32m   1430\u001b[0m \u001b[1;33m\u001b[0m\u001b[0m\n\u001b[0;32m   1431\u001b[0m   \u001b[1;32mdef\u001b[0m \u001b[0m_call_tf_sessionprun\u001b[0m\u001b[1;33m(\u001b[0m\u001b[0mself\u001b[0m\u001b[1;33m,\u001b[0m \u001b[0mhandle\u001b[0m\u001b[1;33m,\u001b[0m \u001b[0mfeed_dict\u001b[0m\u001b[1;33m,\u001b[0m \u001b[0mfetch_list\u001b[0m\u001b[1;33m)\u001b[0m\u001b[1;33m:\u001b[0m\u001b[1;33m\u001b[0m\u001b[1;33m\u001b[0m\u001b[0m\n",
      "\u001b[1;31mKeyboardInterrupt\u001b[0m: "
     ]
    }
   ],
   "source": [
    "%run ./train.py"
   ]
  },
  {
   "cell_type": "code",
   "execution_count": null,
   "metadata": {},
   "outputs": [],
   "source": []
  },
  {
   "cell_type": "code",
   "execution_count": null,
   "metadata": {},
   "outputs": [],
   "source": []
  }
 ],
 "metadata": {
  "kernelspec": {
   "display_name": "Python 3",
   "language": "python",
   "name": "python3"
  },
  "language_info": {
   "codemirror_mode": {
    "name": "ipython",
    "version": 3
   },
   "file_extension": ".py",
   "mimetype": "text/x-python",
   "name": "python",
   "nbconvert_exporter": "python",
   "pygments_lexer": "ipython3",
   "version": "3.7.3"
  }
 },
 "nbformat": 4,
 "nbformat_minor": 2
}
