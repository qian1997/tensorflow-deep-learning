{
 "cells": [
  {
   "cell_type": "code",
   "execution_count": 1,
   "metadata": {},
   "outputs": [],
   "source": [
    "import tensorflow as tf"
   ]
  },
  {
   "cell_type": "code",
   "execution_count": 2,
   "metadata": {},
   "outputs": [
    {
     "name": "stdout",
     "output_type": "stream",
     "text": [
      "0.1\n",
      "\n",
      "Parameters:\n",
      "ALSOLOGTOSTDERR=False\n",
      "DEV_SAMPLE_PERCENTAGE=0.1\n",
      "DROPOUT_KEEP_PROB=0.5\n",
      "EMBEDDING_DIM=128\n",
      "F=C:\\Users\\Administrator\\AppData\\Roaming\\jupyter\\runtime\\kernel-b49eb6e8-5994-4254-8265-f492bc383657.json\n",
      "FILTER_SIZES=3,4,5\n",
      "L2_REG_LAMBDA=0.0\n",
      "LOG_DIR=\n",
      "LOGGER_LEVELS={}\n",
      "LOGTOSTDERR=False\n",
      "NEGATIVE_DATA_FILE=./data/rt-polaritydata/rt-polarity.neg\n",
      "NUM_FILTERS=128\n",
      "ONLY_CHECK_ARGS=False\n",
      "OP_CONVERSION_FALLBACK_TO_WHILE_LOOP=False\n",
      "PDB=False\n",
      "PDB_POST_MORTEM=False\n",
      "POSITIVE_DATA_FILE=./data/rt-polaritydata/rt-polarity.pos\n",
      "PROFILE_FILE=None\n",
      "RUN_WITH_PDB=False\n",
      "RUN_WITH_PROFILING=False\n",
      "SHOWPREFIXFORINFO=True\n",
      "STDERRTHRESHOLD=fatal\n",
      "TEST_RANDOM_SEED=301\n",
      "TEST_RANDOMIZE_ORDERING_SEED=\n",
      "TEST_SRCDIR=\n",
      "TEST_TMPDIR=C:\\Users\\ADMINI~1\\AppData\\Local\\Temp\\absl_testing\n",
      "USE_CPROFILE_FOR_PROFILING=True\n",
      "V=-1\n",
      "VERBOSITY=-1\n",
      "XML_OUTPUT_FILE=\n",
      "\n"
     ]
    }
   ],
   "source": [
    "flags = tf.app.flags\n",
    "tf.app.flags.DEFINE_string('f', '', 'kernel')\n",
    "#数据集占比\n",
    "tf.flags.DEFINE_float(\"dev_sample_percentage\", .1, \"Percentage of the training data to use for validation\")\n",
    "#正样本\n",
    "tf.flags.DEFINE_string(\"positive_data_file\", \"./data/rt-polaritydata/rt-polarity.pos\", \"Data source for the positive data.\")\n",
    "#负样本\n",
    "tf.flags.DEFINE_string(\"negative_data_file\", \"./data/rt-polaritydata/rt-polarity.neg\", \"Data source for the negative data.\")\n",
    "\n",
    "# Model Hyperparameters\n",
    "#词向量长度\n",
    "tf.flags.DEFINE_integer(\"embedding_dim\", 128, \"Dimensionality of character embedding (default: 128)\")\n",
    "#卷积核大小\n",
    "tf.flags.DEFINE_string(\"filter_sizes\", \"3,4,5\", \"Comma-separated filter sizes (default: '3,4,5')\")\n",
    "#每一种卷积核个数\n",
    "tf.flags.DEFINE_integer(\"num_filters\", 128, \"Number of filters per filter size (default: 128)\")\n",
    "#dropout参数\n",
    "tf.flags.DEFINE_float(\"dropout_keep_prob\", 0.5, \"Dropout keep probability (default: 0.5)\")\n",
    "#L2正则化参数\n",
    "tf.flags.DEFINE_float(\"l2_reg_lambda\", 0.0, \"L2 regularization lambda (default: 0.0)\")\n",
    "\n",
    "FLAGS = flags.FLAGS\n",
    "FLAGS.flag_values_dict()\n",
    "\n",
    "print(FLAGS.dev_sample_percentage)\n",
    "\n",
    "# 打印所有参数\n",
    "print(\"\\nParameters:\")\n",
    "for attr, value in sorted(FLAGS.flag_values_dict().items()):\n",
    "    print(\"{}={}\".format(attr.upper(), value))\n",
    "print(\"\")"
   ]
  },
  {
   "cell_type": "code",
   "execution_count": null,
   "metadata": {},
   "outputs": [],
   "source": []
  }
 ],
 "metadata": {
  "kernelspec": {
   "display_name": "Python 3",
   "language": "python",
   "name": "python3"
  },
  "language_info": {
   "codemirror_mode": {
    "name": "ipython",
    "version": 3
   },
   "file_extension": ".py",
   "mimetype": "text/x-python",
   "name": "python",
   "nbconvert_exporter": "python",
   "pygments_lexer": "ipython3",
   "version": "3.7.3"
  }
 },
 "nbformat": 4,
 "nbformat_minor": 2
}
