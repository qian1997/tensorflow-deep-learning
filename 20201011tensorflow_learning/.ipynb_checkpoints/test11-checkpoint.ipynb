{
 "cells": [
  {
   "cell_type": "code",
   "execution_count": 1,
   "metadata": {},
   "outputs": [],
   "source": [
    "import tensorflow as tf"
   ]
  },
  {
   "cell_type": "code",
   "execution_count": 2,
   "metadata": {},
   "outputs": [
    {
     "name": "stdout",
     "output_type": "stream",
     "text": [
      "100\n",
      "\n",
      "Parameters:\n",
      "ALSOLOGTOSTDERR=False\n",
      "F=C:\\Users\\Administrator\\AppData\\Roaming\\jupyter\\runtime\\kernel-51ba589e-5b5c-463c-af74-b2c57fd687ca.json\n",
      "LOG_DIR=\n",
      "LOGGER_LEVELS={}\n",
      "LOGTOSTDERR=False\n",
      "LSTM_SIZE=128\n",
      "NUM_SEQS=100\n",
      "NUM_STEPS=100\n",
      "ONLY_CHECK_ARGS=False\n",
      "OP_CONVERSION_FALLBACK_TO_WHILE_LOOP=False\n",
      "PDB=False\n",
      "PDB_POST_MORTEM=False\n",
      "PROFILE_FILE=None\n",
      "RUN_WITH_PDB=False\n",
      "RUN_WITH_PROFILING=False\n",
      "SHOWPREFIXFORINFO=True\n",
      "STDERRTHRESHOLD=fatal\n",
      "TEST_RANDOM_SEED=301\n",
      "TEST_RANDOMIZE_ORDERING_SEED=\n",
      "TEST_SRCDIR=\n",
      "TEST_TMPDIR=C:\\Users\\ADMINI~1\\AppData\\Local\\Temp\\absl_testing\n",
      "USE_CPROFILE_FOR_PROFILING=True\n",
      "V=-1\n",
      "VERBOSITY=-1\n",
      "XML_OUTPUT_FILE=\n",
      "\n"
     ]
    }
   ],
   "source": [
    "flags = tf.app.flags\n",
    "tf.app.flags.DEFINE_string('f', '', 'kernel')\n",
    "\n",
    "tf.flags.DEFINE_integer('num_seqs', 100, 'number of seqs in one batch')\n",
    "tf.flags.DEFINE_integer('num_steps', 100, 'length of one seq')\n",
    "tf.flags.DEFINE_integer('lstm_size', 128, 'size of hidden state of lstm')\n",
    "\n",
    "FLAGS = flags.FLAGS\n",
    "#FLAGS._parse_flags()\n",
    "FLAGS.flag_values_dict()\n",
    "\n",
    "print(FLAGS.num_seqs)\n",
    "\n",
    "# 打印所有参数\n",
    "print(\"\\nParameters:\")\n",
    "for attr, value in sorted(FLAGS.flag_values_dict().items()):\n",
    "    print(\"{}={}\".format(attr.upper(), value))\n",
    "print(\"\")\n"
   ]
  },
  {
   "cell_type": "code",
   "execution_count": 9,
   "metadata": {},
   "outputs": [
    {
     "name": "stdout",
     "output_type": "stream",
     "text": [
      "1: /bbbb\\ccccc.txt\n",
      "2: /ccccc.txt\n",
      "3: aaaa\\./bbb\\ccccc.txt\n"
     ]
    }
   ],
   "source": [
    "import os\n",
    "#将多个路径组合后返回\n",
    "#会从第一个以”/”开头的参数开始拼接，之前的参数全部丢弃。\n",
    "#以上一种情况为先。在上一种情况确保情况下，若出现”./”开头的参数，会从”./”开头的参数的上一个参数开始拼接。\n",
    "print(\"1:\",os.path.join('aaaa','/bbbb','ccccc.txt'))\n",
    "\n",
    "print(\"2:\",os.path.join('/aaaa','/bbbb','/ccccc.txt'))\n",
    "\n",
    "print(\"3:\",os.path.join('aaaa','./bbb','ccccc.txt'))"
   ]
  },
  {
   "cell_type": "code",
   "execution_count": 10,
   "metadata": {},
   "outputs": [
    {
     "name": "stdout",
     "output_type": "stream",
     "text": [
      "2020:10:24\n"
     ]
    }
   ],
   "source": [
    "#join 连接字符数组\n",
    "time = [\"2020\",\"10\",\"24\"]\n",
    "join_time = \":\".join(time)\n",
    "print(join_time)"
   ]
  },
  {
   "cell_type": "code",
   "execution_count": 13,
   "metadata": {},
   "outputs": [
    {
     "name": "stdout",
     "output_type": "stream",
     "text": [
      "True\n",
      "True\n",
      "True\n",
      "False\n"
     ]
    }
   ],
   "source": [
    "#startswith()函数判断文本是否以某个字符开始，endswith()函数判断文本是否以某个字符结束。\n",
    "#其返回值为布尔型，为真时返回True，否则返回False。\n",
    "str1 = \"this is string example....wow!!!\"\n",
    "suffix = \"wow!!!\"\n",
    "print(str1.endswith(suffix))\n",
    "print(str1.endswith(suffix,20))\n",
    "suffix = \"is\"\n",
    "print(str1.endswith(suffix, 2, 4))\n",
    "print(str1.endswith(suffix, 2, 6))"
   ]
  },
  {
   "cell_type": "code",
   "execution_count": 14,
   "metadata": {},
   "outputs": [
    {
     "name": "stdout",
     "output_type": "stream",
     "text": [
      "True\n",
      "True\n",
      "False\n",
      "True\n"
     ]
    }
   ],
   "source": [
    "text='welcome to 361way blog'\n",
    "print(text.startswith('w'))      # True\n",
    "print(text.startswith('wel'))    # True\n",
    "print(text.startswith('c'))      # False\n",
    "print(text.startswith(''))       # True"
   ]
  },
  {
   "cell_type": "code",
   "execution_count": 16,
   "metadata": {},
   "outputs": [
    {
     "name": "stderr",
     "output_type": "stream",
     "text": [
      "100%|████████████████████████████████████████████████████████████████████████████████| 100/100 [00:01<00:00, 90.92it/s]\n"
     ]
    }
   ],
   "source": [
    "from tqdm import tqdm  \n",
    "import time\n",
    "from tqdm import tqdm \n",
    "#进度条\n",
    "for i in tqdm(range(100)):  \n",
    "    time.sleep(0.01)"
   ]
  },
  {
   "cell_type": "code",
   "execution_count": 18,
   "metadata": {},
   "outputs": [
    {
     "name": "stdout",
     "output_type": "stream",
     "text": [
      "[[0 1]\n",
      " [2 3]]\n",
      "[[0 2]\n",
      " [1 3]]\n"
     ]
    }
   ],
   "source": [
    "import numpy as np\n",
    "x = np.arange(4).reshape((2,2)) #生成一个2x2数组\n",
    "print(x)\n",
    "x1 = np.transpose(x) #行列交换\n",
    "print(x1)"
   ]
  },
  {
   "cell_type": "code",
   "execution_count": 2,
   "metadata": {},
   "outputs": [
    {
     "name": "stdout",
     "output_type": "stream",
     "text": [
      "Your version is 0.23.2\n"
     ]
    }
   ],
   "source": [
    "import sklearn\n",
    "print('Your version is {}'.format(sklearn.__version__))"
   ]
  },
  {
   "cell_type": "code",
   "execution_count": null,
   "metadata": {},
   "outputs": [],
   "source": []
  }
 ],
 "metadata": {
  "kernelspec": {
   "display_name": "Python 3",
   "language": "python",
   "name": "python3"
  },
  "language_info": {
   "codemirror_mode": {
    "name": "ipython",
    "version": 3
   },
   "file_extension": ".py",
   "mimetype": "text/x-python",
   "name": "python",
   "nbconvert_exporter": "python",
   "pygments_lexer": "ipython3",
   "version": "3.7.3"
  }
 },
 "nbformat": 4,
 "nbformat_minor": 2
}
