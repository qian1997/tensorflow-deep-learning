{
 "cells": [
  {
   "cell_type": "code",
   "execution_count": 1,
   "metadata": {},
   "outputs": [],
   "source": [
    "import tensorflow as tf\n",
    "import os\n",
    "import tarfile\n",
    "import requests"
   ]
  },
  {
   "cell_type": "code",
   "execution_count": 2,
   "metadata": {},
   "outputs": [
    {
     "name": "stdout",
     "output_type": "stream",
     "text": [
      "download: inception-2015-12-05.tgz\n",
      "finish:  inception-2015-12-05.tgz\n",
      "WARNING:tensorflow:From <ipython-input-2-191557324b41>:34: FastGFile.__init__ (from tensorflow.python.platform.gfile) is deprecated and will be removed in a future version.\n",
      "Instructions for updating:\n",
      "Use tf.gfile.GFile.\n"
     ]
    }
   ],
   "source": [
    "#模型下载地址\n",
    "inception_pretrain_model_url='http://download.tensorflow.org/models/image/imagenet/inception-2015-12-05.tgz'\n",
    "\n",
    "#模型存放地址\n",
    "#创建文件夹的名字及路径,os.path.exists()函数用来检验给出的路径是否真地存在 返回bool\n",
    "inception_pretrain_model_dir=\"inception_model\"\n",
    "if not os.path.exists(inception_pretrain_model_dir):\n",
    "    #makedir(path):创建文件夹，注：创建已存在的文件夹将异常\n",
    "    os.makedirs(inception_pretrain_model_dir)  \n",
    "\n",
    "#获取文件名以及文件路径\n",
    "#inception_pretrain_model_url='http://download.tensorflow.org/models/image/imagenet/inception-2015-12-05.tgz'\n",
    "#filename取以/分开的最后一个字符串即inception-2015-12-05.tgz\n",
    "filename=inception_pretrain_model_url.split('/')[-1]\n",
    "#将两个路径连接起来：inception_model\\inception-2015-12-05.tgz\n",
    "filepath=os.path.join(inception_pretrain_model_dir, filename)\n",
    "\n",
    "#下载模型\n",
    "# 如果路径名不存在（这里指的是路径下的内容）的话，就开始下载文件\n",
    "if not os.path.exists(filepath):\n",
    "    print(\"download:\", filename)\n",
    "    #requests.get从指定http网站上下载内容\n",
    "    r=requests.get(inception_pretrain_model_url, stream=True)\n",
    "    # 用with语句来打开文件，就包含关闭的功能。wb是写二进制文件，由于文件过大，批量写（这里是压缩包）\n",
    "    with open(filepath, 'wb') as f:\n",
    "        for chunk in r.iter_content(chunk_size=1024):\n",
    "            if chunk:\n",
    "                f.write(chunk)\n",
    "print(\"finish: \",filename)\n",
    "\n",
    "#tarfile解压文件 \n",
    "#其中，解压出来的文件其中的classify_image_graph_def.pb 文件就是训练好的Inception-v3模型\n",
    "#imagenet_synset_to_human_label_map.txt是类别文件\n",
    "tarfile.open(filepath, 'r:gz').extractall(inception_pretrain_model_dir)\n",
    "\n",
    "#模型结构存放文件，创建inception_log文件夹\n",
    "log_dir='inception_log'\n",
    "if not os.path.exists(log_dir):\n",
    "    os.makedirs(log_dir)\n",
    "\n",
    "#classify_image_graph_def.pb为google训练好的模型\n",
    "inception_graph_def_file=os.path.join(inception_pretrain_model_dir, 'classify_image_graph_def.pb')\n",
    "\n",
    "with tf.Session() as sess:\n",
    "    #创建一个图来保存google训练好的模型，图片所在路径inception_graph_def_file 二进制方式读取文件\n",
    "    #inception_pretrain_model_dir=inception_model\\ 里面存放多个文件\n",
    "    with tf.gfile.FastGFile(inception_graph_def_file, 'rb') as f:\n",
    "        # 新建GraphDef文件，用于临时载入模型中的图\n",
    "        graph_def=tf.GraphDef()\n",
    "        # GraphDef加载模型中的图   \n",
    "        graph_def.ParseFromString(f.read())\n",
    "        # 在空白图中加载GraphDef中的图\n",
    "        tf.import_graph_def(graph_def, name='')\n",
    "    #指定log_dir=inception_log文件保存图的结构\n",
    "    writer=tf.summary.FileWriter(log_dir, sess.graph)\n",
    "    writer.close()"
   ]
  },
  {
   "cell_type": "code",
   "execution_count": null,
   "metadata": {},
   "outputs": [],
   "source": []
  }
 ],
 "metadata": {
  "kernelspec": {
   "display_name": "Python 3",
   "language": "python",
   "name": "python3"
  },
  "language_info": {
   "codemirror_mode": {
    "name": "ipython",
    "version": 3
   },
   "file_extension": ".py",
   "mimetype": "text/x-python",
   "name": "python",
   "nbconvert_exporter": "python",
   "pygments_lexer": "ipython3",
   "version": "3.7.3"
  }
 },
 "nbformat": 4,
 "nbformat_minor": 2
}
