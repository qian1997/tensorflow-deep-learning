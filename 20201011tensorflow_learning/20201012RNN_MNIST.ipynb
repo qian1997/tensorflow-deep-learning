{
 "cells": [
  {
   "cell_type": "code",
   "execution_count": null,
   "metadata": {},
   "outputs": [],
   "source": [
    "import tensorflow as tf\n",
    "from tensorflow.examples.tutorials.mnist import input_data\n",
    "#载入数据集\n",
    "mnist = input_data.read_data_sets(\"MNIST_data/\",one_hot=True)"
   ]
  },
  {
   "cell_type": "code",
   "execution_count": null,
   "metadata": {},
   "outputs": [],
   "source": [
    "#输入图片是28*28\n",
    "n_inputs = 28#输入一行的长度 取决于图片一行28像素\n",
    "max_time = 28#一共28行\n",
    "lstm_size = 100#100个隐层单元\n",
    "n_classes = 10#10个分类\n",
    "batch_size = 50#每批次50样本\n",
    "n_batch = mnist.train.num_examples // batch_size#计算一共多少批次 \n",
    "\n",
    "#x是一个占位符，这里的none表示第一个维度可以任意，取决于放多少张图片\n",
    "x = tf.placeholder(tf.float32,[None,784])\n",
    "#正确的标签，输出10个分类\n",
    "y = tf.placeholder(tf.float32,[None,10])\n",
    "\n",
    "#初始化权值\n",
    "weights = tf.Variable(tf.truncated_normal([lstm_size,n_classes],stddev=0.1))\n",
    "#初始化偏置值\n",
    "biases = tf.Variable(tf.constant(0.1,shape=[n_classes]))\n",
    "\n",
    "#定义RNN网络\n",
    "def RNN(X,Weights,Biases):\n",
    "    #inputs = [batch_size,max_time,n_inputs]转换成[50,28,28]\n",
    "    inputs = tf.reshape(X,[-1,max_time,n_inputs])\n",
    "    #定义LSTM基本CELL类型\n",
    "    lstm_cell = tf.nn.rnn_cell.LSTMCell(lstm_size)\n",
    "    #final_state[0]是cell state\n",
    "    #final_state[1]是hidden_state\n",
    "    outputs,final_state = tf.nn.dynamic_rnn(lstm_cell,inputs,dtype=tf.float32)\n",
    "    #模型预测类别结果\n",
    "    results = tf.nn.softmax(tf.matmul(final_state[1],Weights)+Biases)\n",
    "    return results\n",
    "\n",
    "#计算RNN的返回结果\n",
    "prediction = RNN(x,weights,biases)\n",
    "#损失函数\n",
    "cross_entropy = tf.reduce_mean(tf.nn.softmax_cross_entropy_with_logits(logits=prediction,labels=y))\n",
    "#使用AdamOptimizer进行优化\n",
    "train_step = tf.train.AdamOptimizer(1e-4).minimize(cross_entropy)\n",
    "#把结果存放在一个布尔型列表中，返回一维张量中最大概率值的位置\n",
    "correct_prediction = tf.equal(tf.argmax(y,1),tf.argmax(prediction,1))\n",
    "#求准确率，计算数组中的所高元素的平均值，相当于得到了模型的预测准确率\n",
    "#因为correct_prediction 是一个布尔值链表，tf.cast将张量数据类型转化，例[1,0,1,1],精确度0.75=3/4\n",
    "accuracy = tf.reduce_mean(tf.cast(correct_prediction,tf.float32))\n",
    "#初始化\n",
    "init = tf.global_variables_initializer()\n",
    "\n",
    "with tf.Session() as sess:\n",
    "    sess.run(init)\n",
    "    for epoch in range(3):\n",
    "        #每批次50 ，用总量/批次大小=批次次数，就是循环次数，结束后完成一次训练样本的训练\n",
    "        for batch in range(n_batch):\n",
    "            #每次提取batch_size个数据进行训练，共训练n_batch次\n",
    "            batch_xs,batch_ys = mnist.train.next_batch(batch_size)\n",
    "            sess.run(train_step,feed_dict={x:batch_xs,y:batch_ys})\n",
    "            \n",
    "        acc = sess.run(accuracy,feed_dict={x:mnist.test.images,y:mnist.test.labels})\n",
    "        print(\"Iter\" + str(epoch) + \",Testing Accuracy=\" + str(acc))"
   ]
  },
  {
   "cell_type": "code",
   "execution_count": null,
   "metadata": {},
   "outputs": [],
   "source": []
  }
 ],
 "metadata": {
  "kernelspec": {
   "display_name": "Python 3",
   "language": "python",
   "name": "python3"
  },
  "language_info": {
   "codemirror_mode": {
    "name": "ipython",
    "version": 3
   },
   "file_extension": ".py",
   "mimetype": "text/x-python",
   "name": "python",
   "nbconvert_exporter": "python",
   "pygments_lexer": "ipython3",
   "version": "3.7.3"
  }
 },
 "nbformat": 4,
 "nbformat_minor": 2
}
